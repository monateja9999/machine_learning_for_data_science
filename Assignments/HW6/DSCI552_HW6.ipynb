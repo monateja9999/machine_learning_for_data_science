{
  "nbformat": 4,
  "nbformat_minor": 0,
  "metadata": {
    "colab": {
      "provenance": []
    },
    "kernelspec": {
      "name": "python3",
      "display_name": "Python 3"
    },
    "language_info": {
      "name": "python"
    }
  },
  "cells": [
    {
      "cell_type": "markdown",
      "source": [
        "# **Assignment 6**"
      ],
      "metadata": {
        "id": "90F9k-YVFSJq"
      }
    },
    {
      "cell_type": "markdown",
      "source": [
        "### **Brief Introduction**"
      ],
      "metadata": {
        "id": "NgnzjSIRIbCE"
      }
    },
    {
      "cell_type": "markdown",
      "source": [
        "In this assignment you will study the Class Imbalance problem with the help of\n",
        "the Thyroid Disease Dataset.\n",
        "\n",
        "*   You are expected to know Class Priors and how to calculate them.\n",
        "*   You will be exploring various Splitting Methods on the data, observe how they affect performance with the help of various metrics and find the best parameters.\n",
        "*   You will also explore Oversampling methods and compare performance across 3 models.\n",
        "\n",
        "*   Please only fill in code where mentioned (TODO Blocks) without distrubing the rest of the code.\n",
        "\n",
        "*   Make necessary imports in the imports section.\n",
        "\n",
        "* All cells of the notebook should be run in order one final time before submission.\n",
        "\n",
        "\n",
        "\n"
      ],
      "metadata": {
        "id": "GUIe-ahQFehU"
      }
    },
    {
      "cell_type": "markdown",
      "source": [
        "### **Imports**"
      ],
      "metadata": {
        "id": "FQEJw83D1x7Z"
      }
    },
    {
      "cell_type": "code",
      "source": [
        "import pandas as pd\n",
        "import numpy as np\n",
        "import matplotlib.pyplot as plt\n",
        "%matplotlib inline\n",
        "from sklearn.metrics import accuracy_score, precision_score, recall_score, f1_score,  make_scorer\n",
        "from sklearn.model_selection import train_test_split, ShuffleSplit, StratifiedShuffleSplit, GridSearchCV\n",
        "from sklearn.tree import DecisionTreeClassifier\n",
        "from sklearn.linear_model import RidgeClassifier\n",
        "from sklearn.svm import SVC\n",
        "from imblearn.over_sampling import SMOTE, ADASYN, RandomOverSampler\n",
        "from sklearn.preprocessing import MinMaxScaler\n",
        "\n",
        "##### TO DO ######\n",
        "\n",
        "# make more imports here if necessary #\n",
        "import io\n",
        "import requests\n",
        "\n",
        "###### END #######"
      ],
      "metadata": {
        "id": "PIlhutfCaHcK"
      },
      "execution_count": 1,
      "outputs": []
    },
    {
      "cell_type": "markdown",
      "source": [
        "### **Data**"
      ],
      "metadata": {
        "id": "0TfbNGjXJjEF"
      }
    },
    {
      "cell_type": "markdown",
      "source": [
        "#### Thyroid Disease Dataset\n",
        "\n",
        "\n",
        "\n",
        "\n",
        "\n",
        "*   30 columns\n",
        "*   3772 rows\n",
        "*'binaryClass' is your target which predicts the presence of Thyroid.\n",
        "* Observe the imbalance in your target class that may lead to skewed results.\n",
        "\n",
        "\n",
        "\n",
        "\tAttribute Name\t\t\tPossible Values\n",
        "\t--------------\t\t\t---------------\n",
        "\tage:\t\t\t\tcontinuous.\n",
        "\tsex:\t\t\t\tM, F.\n",
        "\ton thyroxine:\t\t\tf, t.\n",
        "\tquery on thyroxine:\t\tf, t.\n",
        "\ton antithyroid medication:\tf, t.\n",
        "\tsick:\t\t\t\tf, t.\n",
        "\tpregnant:\t\t\tf, t.\n",
        "\tthyroid surgery:\t\tf, t.\n",
        "\tI131 treatment:\t\t\tf, t.\n",
        "\tquery hypothyroid:\t\tf, t.\n",
        "\tquery hyperthyroid:\t\tf, t.\n",
        "\tlithium:\t\t\tf, t.\n",
        "\tgoitre:\t\t\t\tf, t.\n",
        "\ttumor:\t\t\t\tf, t.\n",
        "\thypopituitary:\t\t\tf, t.\n",
        "\tpsych:\t\t\t\tf, t.\n",
        "\tTSH measured:\t\t\tf, t.\n",
        "\tTSH:\t\t\t\tcontinuous.\n",
        "\tT3 measured:\t\t\tf, t.\n",
        "\tT3:\t\t\t\tcontinuous.\n",
        "\tTT4 measured:\t\t\tf, t.\n",
        "\tTT4:\t\t\t\tcontinuous.\n",
        "\tT4U measured:\t\t\tf, t.\n",
        "\tT4U:\t\t\t\tcontinuous.\n",
        "\tFTI measured:\t\t\tf, t.\n",
        "\tFTI:\t\t\t\tcontinuous.\n",
        "\tTBG measured:\t\t\tf, t.\n",
        "\tTBG:\t\t\t\tcontinuous.\n",
        "\treferral source:\t\tWEST, STMW, SVHC, SVI, SVHD, other.\n",
        "\tbinaryClass:\t\t\tP, N.\n",
        "\n",
        "\n",
        "Some additional information on the dataset that might help:\n",
        "\n",
        "* age - age of the patient\n",
        "* sex - sex patient identifies\n",
        "* on_thyroxine - whether patient is on thyroxine\n",
        "* query on thyroxine - *whether patient is on thyroxine\n",
        "* on antithyroid meds - whether patient is on antithyroid meds\n",
        "* sick - whether patient is sick\n",
        "* pregnant - whether patient is pregnant\n",
        "* thyroid_surgery - whether patient has undergone thyroid surgery\n",
        "* I131_treatment - whether patient is undergoing I131 treatment\n",
        "* query_hypothyroid - whether patient believes they have hypothyroid\n",
        "* query_hyperthyroid - whether patient believes they have hyperthyroid\n",
        "* lithium - whether patient * lithium\n",
        "* goitre - whether patient has goitre\n",
        "* tumor - whether patient has tumor\n",
        "* hypopituitary - whether patient * hyperpituitary gland\n",
        "* psych - whether patient * psych\n",
        "* TSH_measured - whether TSH was measured in the blood\n",
        "* TSH - TSH level in blood from lab work\n",
        "* T3_measured - whether T3 was measured in the blood\n",
        "* T3 - T3 level in blood from lab work\n",
        "* TT4_measured - whether TT4 was measured in the blood\n",
        "* TT4 - TT4 level in blood from lab work\n",
        "* T4U_measured - whether T4U was measured in the blood (bool)\n",
        "* T4U - T4U level in blood from lab work (float)\n",
        "* FTI_measured - whether FTI was measured in the blood (bool)\n",
        "* FTI - FTI level in blood from lab work (float)\n",
        "* TBG_measured - whether TBG was measured in the blood (bool)\n",
        "* TBG - TBG level in blood from lab work\n",
        "* referral_source\n",
        "* binaryClass - hyperthyroidism medical diagnosis\n",
        "  \n",
        "\n",
        "\n"
      ],
      "metadata": {
        "id": "IYqkFKMBJ3s9"
      }
    },
    {
      "cell_type": "markdown",
      "source": [
        "#### Read Dataset"
      ],
      "metadata": {
        "id": "_ohJ0tGJNQIu"
      }
    },
    {
      "cell_type": "code",
      "source": [
        "# Defining the path as per the data location\n",
        "data_link = \"https://drive.google.com/uc?id=1T-IT2XATLIUrnSQtpEXJwLn5jwnFP6G2\"\n",
        "\n",
        "# Fetch the content of the CSV file\n",
        "response = requests.get(data_link).content\n",
        "df = pd.read_csv(io.StringIO(response.decode('utf-8')))"
      ],
      "metadata": {
        "id": "8VX9Orrjdl97"
      },
      "execution_count": 2,
      "outputs": []
    },
    {
      "cell_type": "code",
      "source": [
        "df"
      ],
      "metadata": {
        "id": "48QZQOvxeCnA",
        "colab": {
          "base_uri": "https://localhost:8080/",
          "height": 458
        },
        "outputId": "63ed555e-2866-4caa-e74d-502070a35676"
      },
      "execution_count": 3,
      "outputs": [
        {
          "output_type": "execute_result",
          "data": {
            "text/plain": [
              "     age sex on thyroxine query on thyroxine on antithyroid medication sick  \\\n",
              "0     41   F            f                  f                         f    f   \n",
              "1     23   F            f                  f                         f    f   \n",
              "2     46   M            f                  f                         f    f   \n",
              "3     70   F            t                  f                         f    f   \n",
              "4     70   F            f                  f                         f    f   \n",
              "...   ..  ..          ...                ...                       ...  ...   \n",
              "3767  30   F            f                  f                         f    f   \n",
              "3768  68   F            f                  f                         f    f   \n",
              "3769  74   F            f                  f                         f    f   \n",
              "3770  72   M            f                  f                         f    f   \n",
              "3771  64   F            f                  f                         f    f   \n",
              "\n",
              "     pregnant thyroid surgery I131 treatment query hypothyroid  ...  \\\n",
              "0           f               f              f                 f  ...   \n",
              "1           f               f              f                 f  ...   \n",
              "2           f               f              f                 f  ...   \n",
              "3           f               f              f                 f  ...   \n",
              "4           f               f              f                 f  ...   \n",
              "...       ...             ...            ...               ...  ...   \n",
              "3767        f               f              f                 f  ...   \n",
              "3768        f               f              f                 f  ...   \n",
              "3769        f               f              f                 f  ...   \n",
              "3770        f               f              f                 f  ...   \n",
              "3771        f               f              f                 f  ...   \n",
              "\n",
              "     TT4 measured  TT4 T4U measured   T4U FTI measured  FTI TBG measured TBG  \\\n",
              "0               t  125            t  1.14            t  109            f   ?   \n",
              "1               t  102            f     ?            f    ?            f   ?   \n",
              "2               t  109            t  0.91            t  120            f   ?   \n",
              "3               t  175            f     ?            f    ?            f   ?   \n",
              "4               t   61            t  0.87            t   70            f   ?   \n",
              "...           ...  ...          ...   ...          ...  ...          ...  ..   \n",
              "3767            f    ?            f     ?            f    ?            f   ?   \n",
              "3768            t  124            t  1.08            t  114            f   ?   \n",
              "3769            t  112            t  1.07            t  105            f   ?   \n",
              "3770            t   82            t  0.94            t   87            f   ?   \n",
              "3771            t   99            t  1.07            t   92            f   ?   \n",
              "\n",
              "     referral source binaryClass  \n",
              "0               SVHC           P  \n",
              "1              other           P  \n",
              "2              other           P  \n",
              "3              other           P  \n",
              "4                SVI           P  \n",
              "...              ...         ...  \n",
              "3767           other           P  \n",
              "3768             SVI           P  \n",
              "3769           other           P  \n",
              "3770             SVI           P  \n",
              "3771           other           P  \n",
              "\n",
              "[3772 rows x 30 columns]"
            ],
            "text/html": [
              "\n",
              "  <div id=\"df-cd168a49-0ea6-481c-8dce-21e4a4dc5c24\" class=\"colab-df-container\">\n",
              "    <div>\n",
              "<style scoped>\n",
              "    .dataframe tbody tr th:only-of-type {\n",
              "        vertical-align: middle;\n",
              "    }\n",
              "\n",
              "    .dataframe tbody tr th {\n",
              "        vertical-align: top;\n",
              "    }\n",
              "\n",
              "    .dataframe thead th {\n",
              "        text-align: right;\n",
              "    }\n",
              "</style>\n",
              "<table border=\"1\" class=\"dataframe\">\n",
              "  <thead>\n",
              "    <tr style=\"text-align: right;\">\n",
              "      <th></th>\n",
              "      <th>age</th>\n",
              "      <th>sex</th>\n",
              "      <th>on thyroxine</th>\n",
              "      <th>query on thyroxine</th>\n",
              "      <th>on antithyroid medication</th>\n",
              "      <th>sick</th>\n",
              "      <th>pregnant</th>\n",
              "      <th>thyroid surgery</th>\n",
              "      <th>I131 treatment</th>\n",
              "      <th>query hypothyroid</th>\n",
              "      <th>...</th>\n",
              "      <th>TT4 measured</th>\n",
              "      <th>TT4</th>\n",
              "      <th>T4U measured</th>\n",
              "      <th>T4U</th>\n",
              "      <th>FTI measured</th>\n",
              "      <th>FTI</th>\n",
              "      <th>TBG measured</th>\n",
              "      <th>TBG</th>\n",
              "      <th>referral source</th>\n",
              "      <th>binaryClass</th>\n",
              "    </tr>\n",
              "  </thead>\n",
              "  <tbody>\n",
              "    <tr>\n",
              "      <th>0</th>\n",
              "      <td>41</td>\n",
              "      <td>F</td>\n",
              "      <td>f</td>\n",
              "      <td>f</td>\n",
              "      <td>f</td>\n",
              "      <td>f</td>\n",
              "      <td>f</td>\n",
              "      <td>f</td>\n",
              "      <td>f</td>\n",
              "      <td>f</td>\n",
              "      <td>...</td>\n",
              "      <td>t</td>\n",
              "      <td>125</td>\n",
              "      <td>t</td>\n",
              "      <td>1.14</td>\n",
              "      <td>t</td>\n",
              "      <td>109</td>\n",
              "      <td>f</td>\n",
              "      <td>?</td>\n",
              "      <td>SVHC</td>\n",
              "      <td>P</td>\n",
              "    </tr>\n",
              "    <tr>\n",
              "      <th>1</th>\n",
              "      <td>23</td>\n",
              "      <td>F</td>\n",
              "      <td>f</td>\n",
              "      <td>f</td>\n",
              "      <td>f</td>\n",
              "      <td>f</td>\n",
              "      <td>f</td>\n",
              "      <td>f</td>\n",
              "      <td>f</td>\n",
              "      <td>f</td>\n",
              "      <td>...</td>\n",
              "      <td>t</td>\n",
              "      <td>102</td>\n",
              "      <td>f</td>\n",
              "      <td>?</td>\n",
              "      <td>f</td>\n",
              "      <td>?</td>\n",
              "      <td>f</td>\n",
              "      <td>?</td>\n",
              "      <td>other</td>\n",
              "      <td>P</td>\n",
              "    </tr>\n",
              "    <tr>\n",
              "      <th>2</th>\n",
              "      <td>46</td>\n",
              "      <td>M</td>\n",
              "      <td>f</td>\n",
              "      <td>f</td>\n",
              "      <td>f</td>\n",
              "      <td>f</td>\n",
              "      <td>f</td>\n",
              "      <td>f</td>\n",
              "      <td>f</td>\n",
              "      <td>f</td>\n",
              "      <td>...</td>\n",
              "      <td>t</td>\n",
              "      <td>109</td>\n",
              "      <td>t</td>\n",
              "      <td>0.91</td>\n",
              "      <td>t</td>\n",
              "      <td>120</td>\n",
              "      <td>f</td>\n",
              "      <td>?</td>\n",
              "      <td>other</td>\n",
              "      <td>P</td>\n",
              "    </tr>\n",
              "    <tr>\n",
              "      <th>3</th>\n",
              "      <td>70</td>\n",
              "      <td>F</td>\n",
              "      <td>t</td>\n",
              "      <td>f</td>\n",
              "      <td>f</td>\n",
              "      <td>f</td>\n",
              "      <td>f</td>\n",
              "      <td>f</td>\n",
              "      <td>f</td>\n",
              "      <td>f</td>\n",
              "      <td>...</td>\n",
              "      <td>t</td>\n",
              "      <td>175</td>\n",
              "      <td>f</td>\n",
              "      <td>?</td>\n",
              "      <td>f</td>\n",
              "      <td>?</td>\n",
              "      <td>f</td>\n",
              "      <td>?</td>\n",
              "      <td>other</td>\n",
              "      <td>P</td>\n",
              "    </tr>\n",
              "    <tr>\n",
              "      <th>4</th>\n",
              "      <td>70</td>\n",
              "      <td>F</td>\n",
              "      <td>f</td>\n",
              "      <td>f</td>\n",
              "      <td>f</td>\n",
              "      <td>f</td>\n",
              "      <td>f</td>\n",
              "      <td>f</td>\n",
              "      <td>f</td>\n",
              "      <td>f</td>\n",
              "      <td>...</td>\n",
              "      <td>t</td>\n",
              "      <td>61</td>\n",
              "      <td>t</td>\n",
              "      <td>0.87</td>\n",
              "      <td>t</td>\n",
              "      <td>70</td>\n",
              "      <td>f</td>\n",
              "      <td>?</td>\n",
              "      <td>SVI</td>\n",
              "      <td>P</td>\n",
              "    </tr>\n",
              "    <tr>\n",
              "      <th>...</th>\n",
              "      <td>...</td>\n",
              "      <td>...</td>\n",
              "      <td>...</td>\n",
              "      <td>...</td>\n",
              "      <td>...</td>\n",
              "      <td>...</td>\n",
              "      <td>...</td>\n",
              "      <td>...</td>\n",
              "      <td>...</td>\n",
              "      <td>...</td>\n",
              "      <td>...</td>\n",
              "      <td>...</td>\n",
              "      <td>...</td>\n",
              "      <td>...</td>\n",
              "      <td>...</td>\n",
              "      <td>...</td>\n",
              "      <td>...</td>\n",
              "      <td>...</td>\n",
              "      <td>...</td>\n",
              "      <td>...</td>\n",
              "      <td>...</td>\n",
              "    </tr>\n",
              "    <tr>\n",
              "      <th>3767</th>\n",
              "      <td>30</td>\n",
              "      <td>F</td>\n",
              "      <td>f</td>\n",
              "      <td>f</td>\n",
              "      <td>f</td>\n",
              "      <td>f</td>\n",
              "      <td>f</td>\n",
              "      <td>f</td>\n",
              "      <td>f</td>\n",
              "      <td>f</td>\n",
              "      <td>...</td>\n",
              "      <td>f</td>\n",
              "      <td>?</td>\n",
              "      <td>f</td>\n",
              "      <td>?</td>\n",
              "      <td>f</td>\n",
              "      <td>?</td>\n",
              "      <td>f</td>\n",
              "      <td>?</td>\n",
              "      <td>other</td>\n",
              "      <td>P</td>\n",
              "    </tr>\n",
              "    <tr>\n",
              "      <th>3768</th>\n",
              "      <td>68</td>\n",
              "      <td>F</td>\n",
              "      <td>f</td>\n",
              "      <td>f</td>\n",
              "      <td>f</td>\n",
              "      <td>f</td>\n",
              "      <td>f</td>\n",
              "      <td>f</td>\n",
              "      <td>f</td>\n",
              "      <td>f</td>\n",
              "      <td>...</td>\n",
              "      <td>t</td>\n",
              "      <td>124</td>\n",
              "      <td>t</td>\n",
              "      <td>1.08</td>\n",
              "      <td>t</td>\n",
              "      <td>114</td>\n",
              "      <td>f</td>\n",
              "      <td>?</td>\n",
              "      <td>SVI</td>\n",
              "      <td>P</td>\n",
              "    </tr>\n",
              "    <tr>\n",
              "      <th>3769</th>\n",
              "      <td>74</td>\n",
              "      <td>F</td>\n",
              "      <td>f</td>\n",
              "      <td>f</td>\n",
              "      <td>f</td>\n",
              "      <td>f</td>\n",
              "      <td>f</td>\n",
              "      <td>f</td>\n",
              "      <td>f</td>\n",
              "      <td>f</td>\n",
              "      <td>...</td>\n",
              "      <td>t</td>\n",
              "      <td>112</td>\n",
              "      <td>t</td>\n",
              "      <td>1.07</td>\n",
              "      <td>t</td>\n",
              "      <td>105</td>\n",
              "      <td>f</td>\n",
              "      <td>?</td>\n",
              "      <td>other</td>\n",
              "      <td>P</td>\n",
              "    </tr>\n",
              "    <tr>\n",
              "      <th>3770</th>\n",
              "      <td>72</td>\n",
              "      <td>M</td>\n",
              "      <td>f</td>\n",
              "      <td>f</td>\n",
              "      <td>f</td>\n",
              "      <td>f</td>\n",
              "      <td>f</td>\n",
              "      <td>f</td>\n",
              "      <td>f</td>\n",
              "      <td>f</td>\n",
              "      <td>...</td>\n",
              "      <td>t</td>\n",
              "      <td>82</td>\n",
              "      <td>t</td>\n",
              "      <td>0.94</td>\n",
              "      <td>t</td>\n",
              "      <td>87</td>\n",
              "      <td>f</td>\n",
              "      <td>?</td>\n",
              "      <td>SVI</td>\n",
              "      <td>P</td>\n",
              "    </tr>\n",
              "    <tr>\n",
              "      <th>3771</th>\n",
              "      <td>64</td>\n",
              "      <td>F</td>\n",
              "      <td>f</td>\n",
              "      <td>f</td>\n",
              "      <td>f</td>\n",
              "      <td>f</td>\n",
              "      <td>f</td>\n",
              "      <td>f</td>\n",
              "      <td>f</td>\n",
              "      <td>f</td>\n",
              "      <td>...</td>\n",
              "      <td>t</td>\n",
              "      <td>99</td>\n",
              "      <td>t</td>\n",
              "      <td>1.07</td>\n",
              "      <td>t</td>\n",
              "      <td>92</td>\n",
              "      <td>f</td>\n",
              "      <td>?</td>\n",
              "      <td>other</td>\n",
              "      <td>P</td>\n",
              "    </tr>\n",
              "  </tbody>\n",
              "</table>\n",
              "<p>3772 rows × 30 columns</p>\n",
              "</div>\n",
              "    <div class=\"colab-df-buttons\">\n",
              "\n",
              "  <div class=\"colab-df-container\">\n",
              "    <button class=\"colab-df-convert\" onclick=\"convertToInteractive('df-cd168a49-0ea6-481c-8dce-21e4a4dc5c24')\"\n",
              "            title=\"Convert this dataframe to an interactive table.\"\n",
              "            style=\"display:none;\">\n",
              "\n",
              "  <svg xmlns=\"http://www.w3.org/2000/svg\" height=\"24px\" viewBox=\"0 -960 960 960\">\n",
              "    <path d=\"M120-120v-720h720v720H120Zm60-500h600v-160H180v160Zm220 220h160v-160H400v160Zm0 220h160v-160H400v160ZM180-400h160v-160H180v160Zm440 0h160v-160H620v160ZM180-180h160v-160H180v160Zm440 0h160v-160H620v160Z\"/>\n",
              "  </svg>\n",
              "    </button>\n",
              "\n",
              "  <style>\n",
              "    .colab-df-container {\n",
              "      display:flex;\n",
              "      gap: 12px;\n",
              "    }\n",
              "\n",
              "    .colab-df-convert {\n",
              "      background-color: #E8F0FE;\n",
              "      border: none;\n",
              "      border-radius: 50%;\n",
              "      cursor: pointer;\n",
              "      display: none;\n",
              "      fill: #1967D2;\n",
              "      height: 32px;\n",
              "      padding: 0 0 0 0;\n",
              "      width: 32px;\n",
              "    }\n",
              "\n",
              "    .colab-df-convert:hover {\n",
              "      background-color: #E2EBFA;\n",
              "      box-shadow: 0px 1px 2px rgba(60, 64, 67, 0.3), 0px 1px 3px 1px rgba(60, 64, 67, 0.15);\n",
              "      fill: #174EA6;\n",
              "    }\n",
              "\n",
              "    .colab-df-buttons div {\n",
              "      margin-bottom: 4px;\n",
              "    }\n",
              "\n",
              "    [theme=dark] .colab-df-convert {\n",
              "      background-color: #3B4455;\n",
              "      fill: #D2E3FC;\n",
              "    }\n",
              "\n",
              "    [theme=dark] .colab-df-convert:hover {\n",
              "      background-color: #434B5C;\n",
              "      box-shadow: 0px 1px 3px 1px rgba(0, 0, 0, 0.15);\n",
              "      filter: drop-shadow(0px 1px 2px rgba(0, 0, 0, 0.3));\n",
              "      fill: #FFFFFF;\n",
              "    }\n",
              "  </style>\n",
              "\n",
              "    <script>\n",
              "      const buttonEl =\n",
              "        document.querySelector('#df-cd168a49-0ea6-481c-8dce-21e4a4dc5c24 button.colab-df-convert');\n",
              "      buttonEl.style.display =\n",
              "        google.colab.kernel.accessAllowed ? 'block' : 'none';\n",
              "\n",
              "      async function convertToInteractive(key) {\n",
              "        const element = document.querySelector('#df-cd168a49-0ea6-481c-8dce-21e4a4dc5c24');\n",
              "        const dataTable =\n",
              "          await google.colab.kernel.invokeFunction('convertToInteractive',\n",
              "                                                    [key], {});\n",
              "        if (!dataTable) return;\n",
              "\n",
              "        const docLinkHtml = 'Like what you see? Visit the ' +\n",
              "          '<a target=\"_blank\" href=https://colab.research.google.com/notebooks/data_table.ipynb>data table notebook</a>'\n",
              "          + ' to learn more about interactive tables.';\n",
              "        element.innerHTML = '';\n",
              "        dataTable['output_type'] = 'display_data';\n",
              "        await google.colab.output.renderOutput(dataTable, element);\n",
              "        const docLink = document.createElement('div');\n",
              "        docLink.innerHTML = docLinkHtml;\n",
              "        element.appendChild(docLink);\n",
              "      }\n",
              "    </script>\n",
              "  </div>\n",
              "\n",
              "\n",
              "<div id=\"df-2e26f99d-676b-4ca5-8fe1-5efd5214473e\">\n",
              "  <button class=\"colab-df-quickchart\" onclick=\"quickchart('df-2e26f99d-676b-4ca5-8fe1-5efd5214473e')\"\n",
              "            title=\"Suggest charts\"\n",
              "            style=\"display:none;\">\n",
              "\n",
              "<svg xmlns=\"http://www.w3.org/2000/svg\" height=\"24px\"viewBox=\"0 0 24 24\"\n",
              "     width=\"24px\">\n",
              "    <g>\n",
              "        <path d=\"M19 3H5c-1.1 0-2 .9-2 2v14c0 1.1.9 2 2 2h14c1.1 0 2-.9 2-2V5c0-1.1-.9-2-2-2zM9 17H7v-7h2v7zm4 0h-2V7h2v10zm4 0h-2v-4h2v4z\"/>\n",
              "    </g>\n",
              "</svg>\n",
              "  </button>\n",
              "\n",
              "<style>\n",
              "  .colab-df-quickchart {\n",
              "      --bg-color: #E8F0FE;\n",
              "      --fill-color: #1967D2;\n",
              "      --hover-bg-color: #E2EBFA;\n",
              "      --hover-fill-color: #174EA6;\n",
              "      --disabled-fill-color: #AAA;\n",
              "      --disabled-bg-color: #DDD;\n",
              "  }\n",
              "\n",
              "  [theme=dark] .colab-df-quickchart {\n",
              "      --bg-color: #3B4455;\n",
              "      --fill-color: #D2E3FC;\n",
              "      --hover-bg-color: #434B5C;\n",
              "      --hover-fill-color: #FFFFFF;\n",
              "      --disabled-bg-color: #3B4455;\n",
              "      --disabled-fill-color: #666;\n",
              "  }\n",
              "\n",
              "  .colab-df-quickchart {\n",
              "    background-color: var(--bg-color);\n",
              "    border: none;\n",
              "    border-radius: 50%;\n",
              "    cursor: pointer;\n",
              "    display: none;\n",
              "    fill: var(--fill-color);\n",
              "    height: 32px;\n",
              "    padding: 0;\n",
              "    width: 32px;\n",
              "  }\n",
              "\n",
              "  .colab-df-quickchart:hover {\n",
              "    background-color: var(--hover-bg-color);\n",
              "    box-shadow: 0 1px 2px rgba(60, 64, 67, 0.3), 0 1px 3px 1px rgba(60, 64, 67, 0.15);\n",
              "    fill: var(--button-hover-fill-color);\n",
              "  }\n",
              "\n",
              "  .colab-df-quickchart-complete:disabled,\n",
              "  .colab-df-quickchart-complete:disabled:hover {\n",
              "    background-color: var(--disabled-bg-color);\n",
              "    fill: var(--disabled-fill-color);\n",
              "    box-shadow: none;\n",
              "  }\n",
              "\n",
              "  .colab-df-spinner {\n",
              "    border: 2px solid var(--fill-color);\n",
              "    border-color: transparent;\n",
              "    border-bottom-color: var(--fill-color);\n",
              "    animation:\n",
              "      spin 1s steps(1) infinite;\n",
              "  }\n",
              "\n",
              "  @keyframes spin {\n",
              "    0% {\n",
              "      border-color: transparent;\n",
              "      border-bottom-color: var(--fill-color);\n",
              "      border-left-color: var(--fill-color);\n",
              "    }\n",
              "    20% {\n",
              "      border-color: transparent;\n",
              "      border-left-color: var(--fill-color);\n",
              "      border-top-color: var(--fill-color);\n",
              "    }\n",
              "    30% {\n",
              "      border-color: transparent;\n",
              "      border-left-color: var(--fill-color);\n",
              "      border-top-color: var(--fill-color);\n",
              "      border-right-color: var(--fill-color);\n",
              "    }\n",
              "    40% {\n",
              "      border-color: transparent;\n",
              "      border-right-color: var(--fill-color);\n",
              "      border-top-color: var(--fill-color);\n",
              "    }\n",
              "    60% {\n",
              "      border-color: transparent;\n",
              "      border-right-color: var(--fill-color);\n",
              "    }\n",
              "    80% {\n",
              "      border-color: transparent;\n",
              "      border-right-color: var(--fill-color);\n",
              "      border-bottom-color: var(--fill-color);\n",
              "    }\n",
              "    90% {\n",
              "      border-color: transparent;\n",
              "      border-bottom-color: var(--fill-color);\n",
              "    }\n",
              "  }\n",
              "</style>\n",
              "\n",
              "  <script>\n",
              "    async function quickchart(key) {\n",
              "      const quickchartButtonEl =\n",
              "        document.querySelector('#' + key + ' button');\n",
              "      quickchartButtonEl.disabled = true;  // To prevent multiple clicks.\n",
              "      quickchartButtonEl.classList.add('colab-df-spinner');\n",
              "      try {\n",
              "        const charts = await google.colab.kernel.invokeFunction(\n",
              "            'suggestCharts', [key], {});\n",
              "      } catch (error) {\n",
              "        console.error('Error during call to suggestCharts:', error);\n",
              "      }\n",
              "      quickchartButtonEl.classList.remove('colab-df-spinner');\n",
              "      quickchartButtonEl.classList.add('colab-df-quickchart-complete');\n",
              "    }\n",
              "    (() => {\n",
              "      let quickchartButtonEl =\n",
              "        document.querySelector('#df-2e26f99d-676b-4ca5-8fe1-5efd5214473e button');\n",
              "      quickchartButtonEl.style.display =\n",
              "        google.colab.kernel.accessAllowed ? 'block' : 'none';\n",
              "    })();\n",
              "  </script>\n",
              "</div>\n",
              "    </div>\n",
              "  </div>\n"
            ],
            "application/vnd.google.colaboratory.intrinsic+json": {
              "type": "dataframe",
              "variable_name": "df"
            }
          },
          "metadata": {},
          "execution_count": 3
        }
      ]
    },
    {
      "cell_type": "markdown",
      "source": [
        "#### Data Cleaning and Preprocessing"
      ],
      "metadata": {
        "id": "XoPq2QnP16Ow"
      }
    },
    {
      "cell_type": "markdown",
      "source": [
        "We drop columns that are redundant. For eg. TT4 measured just keeps a track of whether TT4 was measured with a 1 or 0 flag. Given a TT4 value, we know it was measured, so we drop it"
      ],
      "metadata": {
        "id": "iQ9-BVX0klt5"
      }
    },
    {
      "cell_type": "code",
      "source": [
        "df.drop(['T3 measured','TSH measured','TT4 measured','T4U measured','FTI measured','TBG measured','TBG','referral source','on thyroxine','query on thyroxine','on antithyroid medication','query hypothyroid', 'query hyperthyroid','hypopituitary', 'psych'],axis=1,inplace=True)"
      ],
      "metadata": {
        "id": "LEv1T4BcxUYU"
      },
      "execution_count": 4,
      "outputs": []
    },
    {
      "cell_type": "markdown",
      "source": [
        "Rename the labels to Target column"
      ],
      "metadata": {
        "id": "1yC8lbzjk5GL"
      }
    },
    {
      "cell_type": "code",
      "source": [
        "df.rename(columns={'binaryClass':'Target'}, inplace=True)"
      ],
      "metadata": {
        "id": "D7A4oNptu72w"
      },
      "execution_count": 5,
      "outputs": []
    },
    {
      "cell_type": "code",
      "source": [
        "df.replace('?',np.nan,inplace=True)"
      ],
      "metadata": {
        "id": "3fpADUbXxKdh"
      },
      "execution_count": 6,
      "outputs": []
    },
    {
      "cell_type": "markdown",
      "source": [
        "* Check Null Values and handle them by filling the numerical columns with mean.\n",
        "* Drop remaining Null values\n",
        "* Convert P, N to 1,0\n",
        "* Convert categorical columns using one-hot encoding / dummy variables"
      ],
      "metadata": {
        "id": "WryTw590k-u4"
      }
    },
    {
      "cell_type": "code",
      "source": [
        "df.isnull().sum()"
      ],
      "metadata": {
        "id": "chs9mFV-oYq4",
        "colab": {
          "base_uri": "https://localhost:8080/"
        },
        "outputId": "80acd782-4035-4139-ab7f-7c1a08cc8d8f"
      },
      "execution_count": 7,
      "outputs": [
        {
          "output_type": "execute_result",
          "data": {
            "text/plain": [
              "age                  1\n",
              "sex                150\n",
              "sick                 0\n",
              "pregnant             0\n",
              "thyroid surgery      0\n",
              "I131 treatment       0\n",
              "lithium              0\n",
              "goitre               0\n",
              "tumor                0\n",
              "TSH                369\n",
              "T3                 769\n",
              "TT4                231\n",
              "T4U                387\n",
              "FTI                385\n",
              "Target               0\n",
              "dtype: int64"
            ]
          },
          "metadata": {},
          "execution_count": 7
        }
      ]
    },
    {
      "cell_type": "code",
      "source": [
        "cols = ['age','FTI','TSH','T3','TT4','T4U']\n",
        "for i in cols:\n",
        "    df[i] = pd.to_numeric(df[i])"
      ],
      "metadata": {
        "id": "WG6sPuoroOlF"
      },
      "execution_count": 8,
      "outputs": []
    },
    {
      "cell_type": "code",
      "source": [
        "miss_cols = ['FTI','TSH','T3','TT4','T4U']\n",
        "for i in miss_cols:\n",
        "    df[i] = df[i].fillna(df[i].mean())"
      ],
      "metadata": {
        "id": "63SswT3uoiHc"
      },
      "execution_count": 9,
      "outputs": []
    },
    {
      "cell_type": "code",
      "source": [
        "df.dropna(inplace=True)"
      ],
      "metadata": {
        "id": "41LZop3domSv"
      },
      "execution_count": 10,
      "outputs": []
    },
    {
      "cell_type": "code",
      "source": [
        "df.isnull().sum()"
      ],
      "metadata": {
        "id": "7wXi7I0SoqJt",
        "colab": {
          "base_uri": "https://localhost:8080/"
        },
        "outputId": "b55c3c2d-2dd7-49d2-afb5-35678d963463"
      },
      "execution_count": 11,
      "outputs": [
        {
          "output_type": "execute_result",
          "data": {
            "text/plain": [
              "age                0\n",
              "sex                0\n",
              "sick               0\n",
              "pregnant           0\n",
              "thyroid surgery    0\n",
              "I131 treatment     0\n",
              "lithium            0\n",
              "goitre             0\n",
              "tumor              0\n",
              "TSH                0\n",
              "T3                 0\n",
              "TT4                0\n",
              "T4U                0\n",
              "FTI                0\n",
              "Target             0\n",
              "dtype: int64"
            ]
          },
          "metadata": {},
          "execution_count": 11
        }
      ]
    },
    {
      "cell_type": "code",
      "source": [
        "df = df.drop(1364)"
      ],
      "metadata": {
        "id": "tYPXkpTMkKP1"
      },
      "execution_count": 12,
      "outputs": []
    },
    {
      "cell_type": "code",
      "source": [
        "df.TT4 = df.TT4.astype(int)\n",
        "df.FTI = df.FTI.astype(int)\n",
        "df.age = df.age.astype(int)"
      ],
      "metadata": {
        "id": "UDXlrCyDtGH1"
      },
      "execution_count": 13,
      "outputs": []
    },
    {
      "cell_type": "code",
      "source": [
        "mapping = {'P': 1, 'N': 0}\n",
        "\n",
        "# Apply mapping to the target column\n",
        "df['Target'] = df['Target'].map(mapping)"
      ],
      "metadata": {
        "id": "Xv0X5PO4Xq-A"
      },
      "execution_count": 14,
      "outputs": []
    },
    {
      "cell_type": "code",
      "source": [
        "from sklearn.preprocessing import LabelEncoder\n",
        "\n",
        "cols = ['sex', 'sick', 'pregnant', 'thyroid surgery', 'I131 treatment', 'lithium', 'goitre', 'tumor']\n",
        "\n",
        "df = pd.get_dummies(df, columns=cols, prefix=cols)"
      ],
      "metadata": {
        "id": "vBC6oAQiWrke"
      },
      "execution_count": 15,
      "outputs": []
    },
    {
      "cell_type": "code",
      "source": [
        "# Initialize MinMaxScaler\n",
        "scaler = MinMaxScaler()\n",
        "# Fit scaler to the data and transform it\n",
        "to_scale = ['age','TSH','T3','TT4','T4U','FTI']\n",
        "\n",
        "# Initialize MinMaxScaler\n",
        "scaler = MinMaxScaler()\n",
        "\n",
        "# Fit scaler to the selected columns and transform them\n",
        "df[to_scale] = scaler.fit_transform(df[to_scale])"
      ],
      "metadata": {
        "id": "QeLrQd7NvsAZ"
      },
      "execution_count": 16,
      "outputs": []
    },
    {
      "cell_type": "code",
      "source": [
        "df"
      ],
      "metadata": {
        "id": "VXY6hdlvOLxz",
        "colab": {
          "base_uri": "https://localhost:8080/",
          "height": 461
        },
        "outputId": "49a76324-45c4-4865-f21d-d4643f68d525"
      },
      "execution_count": 17,
      "outputs": [
        {
          "output_type": "execute_result",
          "data": {
            "text/plain": [
              "           age       TSH        T3       TT4       T4U       FTI  Target  \\\n",
              "0     0.430108  0.002443  0.232227  0.287383  0.429952  0.272265       1   \n",
              "1     0.236559  0.007726  0.184834  0.233645  0.359903  0.274809       1   \n",
              "2     0.483871  0.001840  0.186114  0.250000  0.318841  0.300254       1   \n",
              "3     0.741935  0.000292  0.175355  0.404206  0.359903  0.274809       1   \n",
              "4     0.741935  0.001349  0.109005  0.137850  0.299517  0.173028       1   \n",
              "...        ...       ...       ...       ...       ...       ...     ...   \n",
              "3767  0.311828  0.009588  0.186114  0.247664  0.359903  0.274809       1   \n",
              "3768  0.720430  0.001877  0.194313  0.285047  0.400966  0.284987       1   \n",
              "3769  0.784946  0.009613  0.165877  0.257009  0.396135  0.262087       1   \n",
              "3770  0.763441  0.001311  0.184834  0.186916  0.333333  0.216285       1   \n",
              "3771  0.677419  0.001877  0.203791  0.226636  0.396135  0.229008       1   \n",
              "\n",
              "      sex_F  sex_M  sick_f  ...  thyroid surgery_f  thyroid surgery_t  \\\n",
              "0      True  False    True  ...               True              False   \n",
              "1      True  False    True  ...               True              False   \n",
              "2     False   True    True  ...               True              False   \n",
              "3      True  False    True  ...               True              False   \n",
              "4      True  False    True  ...               True              False   \n",
              "...     ...    ...     ...  ...                ...                ...   \n",
              "3767   True  False    True  ...               True              False   \n",
              "3768   True  False    True  ...               True              False   \n",
              "3769   True  False    True  ...               True              False   \n",
              "3770  False   True    True  ...               True              False   \n",
              "3771   True  False    True  ...               True              False   \n",
              "\n",
              "      I131 treatment_f  I131 treatment_t  lithium_f  lithium_t  goitre_f  \\\n",
              "0                 True             False       True      False      True   \n",
              "1                 True             False       True      False      True   \n",
              "2                 True             False       True      False      True   \n",
              "3                 True             False       True      False      True   \n",
              "4                 True             False       True      False      True   \n",
              "...                ...               ...        ...        ...       ...   \n",
              "3767              True             False       True      False      True   \n",
              "3768              True             False       True      False      True   \n",
              "3769              True             False       True      False      True   \n",
              "3770              True             False       True      False      True   \n",
              "3771              True             False       True      False      True   \n",
              "\n",
              "      goitre_t  tumor_f  tumor_t  \n",
              "0        False     True    False  \n",
              "1        False     True    False  \n",
              "2        False     True    False  \n",
              "3        False     True    False  \n",
              "4        False     True    False  \n",
              "...        ...      ...      ...  \n",
              "3767     False    False     True  \n",
              "3768     False     True    False  \n",
              "3769     False     True    False  \n",
              "3770     False     True    False  \n",
              "3771     False     True    False  \n",
              "\n",
              "[3620 rows x 23 columns]"
            ],
            "text/html": [
              "\n",
              "  <div id=\"df-8a399364-94bc-4f3c-a498-1b07be9ae4a4\" class=\"colab-df-container\">\n",
              "    <div>\n",
              "<style scoped>\n",
              "    .dataframe tbody tr th:only-of-type {\n",
              "        vertical-align: middle;\n",
              "    }\n",
              "\n",
              "    .dataframe tbody tr th {\n",
              "        vertical-align: top;\n",
              "    }\n",
              "\n",
              "    .dataframe thead th {\n",
              "        text-align: right;\n",
              "    }\n",
              "</style>\n",
              "<table border=\"1\" class=\"dataframe\">\n",
              "  <thead>\n",
              "    <tr style=\"text-align: right;\">\n",
              "      <th></th>\n",
              "      <th>age</th>\n",
              "      <th>TSH</th>\n",
              "      <th>T3</th>\n",
              "      <th>TT4</th>\n",
              "      <th>T4U</th>\n",
              "      <th>FTI</th>\n",
              "      <th>Target</th>\n",
              "      <th>sex_F</th>\n",
              "      <th>sex_M</th>\n",
              "      <th>sick_f</th>\n",
              "      <th>...</th>\n",
              "      <th>thyroid surgery_f</th>\n",
              "      <th>thyroid surgery_t</th>\n",
              "      <th>I131 treatment_f</th>\n",
              "      <th>I131 treatment_t</th>\n",
              "      <th>lithium_f</th>\n",
              "      <th>lithium_t</th>\n",
              "      <th>goitre_f</th>\n",
              "      <th>goitre_t</th>\n",
              "      <th>tumor_f</th>\n",
              "      <th>tumor_t</th>\n",
              "    </tr>\n",
              "  </thead>\n",
              "  <tbody>\n",
              "    <tr>\n",
              "      <th>0</th>\n",
              "      <td>0.430108</td>\n",
              "      <td>0.002443</td>\n",
              "      <td>0.232227</td>\n",
              "      <td>0.287383</td>\n",
              "      <td>0.429952</td>\n",
              "      <td>0.272265</td>\n",
              "      <td>1</td>\n",
              "      <td>True</td>\n",
              "      <td>False</td>\n",
              "      <td>True</td>\n",
              "      <td>...</td>\n",
              "      <td>True</td>\n",
              "      <td>False</td>\n",
              "      <td>True</td>\n",
              "      <td>False</td>\n",
              "      <td>True</td>\n",
              "      <td>False</td>\n",
              "      <td>True</td>\n",
              "      <td>False</td>\n",
              "      <td>True</td>\n",
              "      <td>False</td>\n",
              "    </tr>\n",
              "    <tr>\n",
              "      <th>1</th>\n",
              "      <td>0.236559</td>\n",
              "      <td>0.007726</td>\n",
              "      <td>0.184834</td>\n",
              "      <td>0.233645</td>\n",
              "      <td>0.359903</td>\n",
              "      <td>0.274809</td>\n",
              "      <td>1</td>\n",
              "      <td>True</td>\n",
              "      <td>False</td>\n",
              "      <td>True</td>\n",
              "      <td>...</td>\n",
              "      <td>True</td>\n",
              "      <td>False</td>\n",
              "      <td>True</td>\n",
              "      <td>False</td>\n",
              "      <td>True</td>\n",
              "      <td>False</td>\n",
              "      <td>True</td>\n",
              "      <td>False</td>\n",
              "      <td>True</td>\n",
              "      <td>False</td>\n",
              "    </tr>\n",
              "    <tr>\n",
              "      <th>2</th>\n",
              "      <td>0.483871</td>\n",
              "      <td>0.001840</td>\n",
              "      <td>0.186114</td>\n",
              "      <td>0.250000</td>\n",
              "      <td>0.318841</td>\n",
              "      <td>0.300254</td>\n",
              "      <td>1</td>\n",
              "      <td>False</td>\n",
              "      <td>True</td>\n",
              "      <td>True</td>\n",
              "      <td>...</td>\n",
              "      <td>True</td>\n",
              "      <td>False</td>\n",
              "      <td>True</td>\n",
              "      <td>False</td>\n",
              "      <td>True</td>\n",
              "      <td>False</td>\n",
              "      <td>True</td>\n",
              "      <td>False</td>\n",
              "      <td>True</td>\n",
              "      <td>False</td>\n",
              "    </tr>\n",
              "    <tr>\n",
              "      <th>3</th>\n",
              "      <td>0.741935</td>\n",
              "      <td>0.000292</td>\n",
              "      <td>0.175355</td>\n",
              "      <td>0.404206</td>\n",
              "      <td>0.359903</td>\n",
              "      <td>0.274809</td>\n",
              "      <td>1</td>\n",
              "      <td>True</td>\n",
              "      <td>False</td>\n",
              "      <td>True</td>\n",
              "      <td>...</td>\n",
              "      <td>True</td>\n",
              "      <td>False</td>\n",
              "      <td>True</td>\n",
              "      <td>False</td>\n",
              "      <td>True</td>\n",
              "      <td>False</td>\n",
              "      <td>True</td>\n",
              "      <td>False</td>\n",
              "      <td>True</td>\n",
              "      <td>False</td>\n",
              "    </tr>\n",
              "    <tr>\n",
              "      <th>4</th>\n",
              "      <td>0.741935</td>\n",
              "      <td>0.001349</td>\n",
              "      <td>0.109005</td>\n",
              "      <td>0.137850</td>\n",
              "      <td>0.299517</td>\n",
              "      <td>0.173028</td>\n",
              "      <td>1</td>\n",
              "      <td>True</td>\n",
              "      <td>False</td>\n",
              "      <td>True</td>\n",
              "      <td>...</td>\n",
              "      <td>True</td>\n",
              "      <td>False</td>\n",
              "      <td>True</td>\n",
              "      <td>False</td>\n",
              "      <td>True</td>\n",
              "      <td>False</td>\n",
              "      <td>True</td>\n",
              "      <td>False</td>\n",
              "      <td>True</td>\n",
              "      <td>False</td>\n",
              "    </tr>\n",
              "    <tr>\n",
              "      <th>...</th>\n",
              "      <td>...</td>\n",
              "      <td>...</td>\n",
              "      <td>...</td>\n",
              "      <td>...</td>\n",
              "      <td>...</td>\n",
              "      <td>...</td>\n",
              "      <td>...</td>\n",
              "      <td>...</td>\n",
              "      <td>...</td>\n",
              "      <td>...</td>\n",
              "      <td>...</td>\n",
              "      <td>...</td>\n",
              "      <td>...</td>\n",
              "      <td>...</td>\n",
              "      <td>...</td>\n",
              "      <td>...</td>\n",
              "      <td>...</td>\n",
              "      <td>...</td>\n",
              "      <td>...</td>\n",
              "      <td>...</td>\n",
              "      <td>...</td>\n",
              "    </tr>\n",
              "    <tr>\n",
              "      <th>3767</th>\n",
              "      <td>0.311828</td>\n",
              "      <td>0.009588</td>\n",
              "      <td>0.186114</td>\n",
              "      <td>0.247664</td>\n",
              "      <td>0.359903</td>\n",
              "      <td>0.274809</td>\n",
              "      <td>1</td>\n",
              "      <td>True</td>\n",
              "      <td>False</td>\n",
              "      <td>True</td>\n",
              "      <td>...</td>\n",
              "      <td>True</td>\n",
              "      <td>False</td>\n",
              "      <td>True</td>\n",
              "      <td>False</td>\n",
              "      <td>True</td>\n",
              "      <td>False</td>\n",
              "      <td>True</td>\n",
              "      <td>False</td>\n",
              "      <td>False</td>\n",
              "      <td>True</td>\n",
              "    </tr>\n",
              "    <tr>\n",
              "      <th>3768</th>\n",
              "      <td>0.720430</td>\n",
              "      <td>0.001877</td>\n",
              "      <td>0.194313</td>\n",
              "      <td>0.285047</td>\n",
              "      <td>0.400966</td>\n",
              "      <td>0.284987</td>\n",
              "      <td>1</td>\n",
              "      <td>True</td>\n",
              "      <td>False</td>\n",
              "      <td>True</td>\n",
              "      <td>...</td>\n",
              "      <td>True</td>\n",
              "      <td>False</td>\n",
              "      <td>True</td>\n",
              "      <td>False</td>\n",
              "      <td>True</td>\n",
              "      <td>False</td>\n",
              "      <td>True</td>\n",
              "      <td>False</td>\n",
              "      <td>True</td>\n",
              "      <td>False</td>\n",
              "    </tr>\n",
              "    <tr>\n",
              "      <th>3769</th>\n",
              "      <td>0.784946</td>\n",
              "      <td>0.009613</td>\n",
              "      <td>0.165877</td>\n",
              "      <td>0.257009</td>\n",
              "      <td>0.396135</td>\n",
              "      <td>0.262087</td>\n",
              "      <td>1</td>\n",
              "      <td>True</td>\n",
              "      <td>False</td>\n",
              "      <td>True</td>\n",
              "      <td>...</td>\n",
              "      <td>True</td>\n",
              "      <td>False</td>\n",
              "      <td>True</td>\n",
              "      <td>False</td>\n",
              "      <td>True</td>\n",
              "      <td>False</td>\n",
              "      <td>True</td>\n",
              "      <td>False</td>\n",
              "      <td>True</td>\n",
              "      <td>False</td>\n",
              "    </tr>\n",
              "    <tr>\n",
              "      <th>3770</th>\n",
              "      <td>0.763441</td>\n",
              "      <td>0.001311</td>\n",
              "      <td>0.184834</td>\n",
              "      <td>0.186916</td>\n",
              "      <td>0.333333</td>\n",
              "      <td>0.216285</td>\n",
              "      <td>1</td>\n",
              "      <td>False</td>\n",
              "      <td>True</td>\n",
              "      <td>True</td>\n",
              "      <td>...</td>\n",
              "      <td>True</td>\n",
              "      <td>False</td>\n",
              "      <td>True</td>\n",
              "      <td>False</td>\n",
              "      <td>True</td>\n",
              "      <td>False</td>\n",
              "      <td>True</td>\n",
              "      <td>False</td>\n",
              "      <td>True</td>\n",
              "      <td>False</td>\n",
              "    </tr>\n",
              "    <tr>\n",
              "      <th>3771</th>\n",
              "      <td>0.677419</td>\n",
              "      <td>0.001877</td>\n",
              "      <td>0.203791</td>\n",
              "      <td>0.226636</td>\n",
              "      <td>0.396135</td>\n",
              "      <td>0.229008</td>\n",
              "      <td>1</td>\n",
              "      <td>True</td>\n",
              "      <td>False</td>\n",
              "      <td>True</td>\n",
              "      <td>...</td>\n",
              "      <td>True</td>\n",
              "      <td>False</td>\n",
              "      <td>True</td>\n",
              "      <td>False</td>\n",
              "      <td>True</td>\n",
              "      <td>False</td>\n",
              "      <td>True</td>\n",
              "      <td>False</td>\n",
              "      <td>True</td>\n",
              "      <td>False</td>\n",
              "    </tr>\n",
              "  </tbody>\n",
              "</table>\n",
              "<p>3620 rows × 23 columns</p>\n",
              "</div>\n",
              "    <div class=\"colab-df-buttons\">\n",
              "\n",
              "  <div class=\"colab-df-container\">\n",
              "    <button class=\"colab-df-convert\" onclick=\"convertToInteractive('df-8a399364-94bc-4f3c-a498-1b07be9ae4a4')\"\n",
              "            title=\"Convert this dataframe to an interactive table.\"\n",
              "            style=\"display:none;\">\n",
              "\n",
              "  <svg xmlns=\"http://www.w3.org/2000/svg\" height=\"24px\" viewBox=\"0 -960 960 960\">\n",
              "    <path d=\"M120-120v-720h720v720H120Zm60-500h600v-160H180v160Zm220 220h160v-160H400v160Zm0 220h160v-160H400v160ZM180-400h160v-160H180v160Zm440 0h160v-160H620v160ZM180-180h160v-160H180v160Zm440 0h160v-160H620v160Z\"/>\n",
              "  </svg>\n",
              "    </button>\n",
              "\n",
              "  <style>\n",
              "    .colab-df-container {\n",
              "      display:flex;\n",
              "      gap: 12px;\n",
              "    }\n",
              "\n",
              "    .colab-df-convert {\n",
              "      background-color: #E8F0FE;\n",
              "      border: none;\n",
              "      border-radius: 50%;\n",
              "      cursor: pointer;\n",
              "      display: none;\n",
              "      fill: #1967D2;\n",
              "      height: 32px;\n",
              "      padding: 0 0 0 0;\n",
              "      width: 32px;\n",
              "    }\n",
              "\n",
              "    .colab-df-convert:hover {\n",
              "      background-color: #E2EBFA;\n",
              "      box-shadow: 0px 1px 2px rgba(60, 64, 67, 0.3), 0px 1px 3px 1px rgba(60, 64, 67, 0.15);\n",
              "      fill: #174EA6;\n",
              "    }\n",
              "\n",
              "    .colab-df-buttons div {\n",
              "      margin-bottom: 4px;\n",
              "    }\n",
              "\n",
              "    [theme=dark] .colab-df-convert {\n",
              "      background-color: #3B4455;\n",
              "      fill: #D2E3FC;\n",
              "    }\n",
              "\n",
              "    [theme=dark] .colab-df-convert:hover {\n",
              "      background-color: #434B5C;\n",
              "      box-shadow: 0px 1px 3px 1px rgba(0, 0, 0, 0.15);\n",
              "      filter: drop-shadow(0px 1px 2px rgba(0, 0, 0, 0.3));\n",
              "      fill: #FFFFFF;\n",
              "    }\n",
              "  </style>\n",
              "\n",
              "    <script>\n",
              "      const buttonEl =\n",
              "        document.querySelector('#df-8a399364-94bc-4f3c-a498-1b07be9ae4a4 button.colab-df-convert');\n",
              "      buttonEl.style.display =\n",
              "        google.colab.kernel.accessAllowed ? 'block' : 'none';\n",
              "\n",
              "      async function convertToInteractive(key) {\n",
              "        const element = document.querySelector('#df-8a399364-94bc-4f3c-a498-1b07be9ae4a4');\n",
              "        const dataTable =\n",
              "          await google.colab.kernel.invokeFunction('convertToInteractive',\n",
              "                                                    [key], {});\n",
              "        if (!dataTable) return;\n",
              "\n",
              "        const docLinkHtml = 'Like what you see? Visit the ' +\n",
              "          '<a target=\"_blank\" href=https://colab.research.google.com/notebooks/data_table.ipynb>data table notebook</a>'\n",
              "          + ' to learn more about interactive tables.';\n",
              "        element.innerHTML = '';\n",
              "        dataTable['output_type'] = 'display_data';\n",
              "        await google.colab.output.renderOutput(dataTable, element);\n",
              "        const docLink = document.createElement('div');\n",
              "        docLink.innerHTML = docLinkHtml;\n",
              "        element.appendChild(docLink);\n",
              "      }\n",
              "    </script>\n",
              "  </div>\n",
              "\n",
              "\n",
              "<div id=\"df-2be3d029-72c6-4262-ac70-3c3830f12c71\">\n",
              "  <button class=\"colab-df-quickchart\" onclick=\"quickchart('df-2be3d029-72c6-4262-ac70-3c3830f12c71')\"\n",
              "            title=\"Suggest charts\"\n",
              "            style=\"display:none;\">\n",
              "\n",
              "<svg xmlns=\"http://www.w3.org/2000/svg\" height=\"24px\"viewBox=\"0 0 24 24\"\n",
              "     width=\"24px\">\n",
              "    <g>\n",
              "        <path d=\"M19 3H5c-1.1 0-2 .9-2 2v14c0 1.1.9 2 2 2h14c1.1 0 2-.9 2-2V5c0-1.1-.9-2-2-2zM9 17H7v-7h2v7zm4 0h-2V7h2v10zm4 0h-2v-4h2v4z\"/>\n",
              "    </g>\n",
              "</svg>\n",
              "  </button>\n",
              "\n",
              "<style>\n",
              "  .colab-df-quickchart {\n",
              "      --bg-color: #E8F0FE;\n",
              "      --fill-color: #1967D2;\n",
              "      --hover-bg-color: #E2EBFA;\n",
              "      --hover-fill-color: #174EA6;\n",
              "      --disabled-fill-color: #AAA;\n",
              "      --disabled-bg-color: #DDD;\n",
              "  }\n",
              "\n",
              "  [theme=dark] .colab-df-quickchart {\n",
              "      --bg-color: #3B4455;\n",
              "      --fill-color: #D2E3FC;\n",
              "      --hover-bg-color: #434B5C;\n",
              "      --hover-fill-color: #FFFFFF;\n",
              "      --disabled-bg-color: #3B4455;\n",
              "      --disabled-fill-color: #666;\n",
              "  }\n",
              "\n",
              "  .colab-df-quickchart {\n",
              "    background-color: var(--bg-color);\n",
              "    border: none;\n",
              "    border-radius: 50%;\n",
              "    cursor: pointer;\n",
              "    display: none;\n",
              "    fill: var(--fill-color);\n",
              "    height: 32px;\n",
              "    padding: 0;\n",
              "    width: 32px;\n",
              "  }\n",
              "\n",
              "  .colab-df-quickchart:hover {\n",
              "    background-color: var(--hover-bg-color);\n",
              "    box-shadow: 0 1px 2px rgba(60, 64, 67, 0.3), 0 1px 3px 1px rgba(60, 64, 67, 0.15);\n",
              "    fill: var(--button-hover-fill-color);\n",
              "  }\n",
              "\n",
              "  .colab-df-quickchart-complete:disabled,\n",
              "  .colab-df-quickchart-complete:disabled:hover {\n",
              "    background-color: var(--disabled-bg-color);\n",
              "    fill: var(--disabled-fill-color);\n",
              "    box-shadow: none;\n",
              "  }\n",
              "\n",
              "  .colab-df-spinner {\n",
              "    border: 2px solid var(--fill-color);\n",
              "    border-color: transparent;\n",
              "    border-bottom-color: var(--fill-color);\n",
              "    animation:\n",
              "      spin 1s steps(1) infinite;\n",
              "  }\n",
              "\n",
              "  @keyframes spin {\n",
              "    0% {\n",
              "      border-color: transparent;\n",
              "      border-bottom-color: var(--fill-color);\n",
              "      border-left-color: var(--fill-color);\n",
              "    }\n",
              "    20% {\n",
              "      border-color: transparent;\n",
              "      border-left-color: var(--fill-color);\n",
              "      border-top-color: var(--fill-color);\n",
              "    }\n",
              "    30% {\n",
              "      border-color: transparent;\n",
              "      border-left-color: var(--fill-color);\n",
              "      border-top-color: var(--fill-color);\n",
              "      border-right-color: var(--fill-color);\n",
              "    }\n",
              "    40% {\n",
              "      border-color: transparent;\n",
              "      border-right-color: var(--fill-color);\n",
              "      border-top-color: var(--fill-color);\n",
              "    }\n",
              "    60% {\n",
              "      border-color: transparent;\n",
              "      border-right-color: var(--fill-color);\n",
              "    }\n",
              "    80% {\n",
              "      border-color: transparent;\n",
              "      border-right-color: var(--fill-color);\n",
              "      border-bottom-color: var(--fill-color);\n",
              "    }\n",
              "    90% {\n",
              "      border-color: transparent;\n",
              "      border-bottom-color: var(--fill-color);\n",
              "    }\n",
              "  }\n",
              "</style>\n",
              "\n",
              "  <script>\n",
              "    async function quickchart(key) {\n",
              "      const quickchartButtonEl =\n",
              "        document.querySelector('#' + key + ' button');\n",
              "      quickchartButtonEl.disabled = true;  // To prevent multiple clicks.\n",
              "      quickchartButtonEl.classList.add('colab-df-spinner');\n",
              "      try {\n",
              "        const charts = await google.colab.kernel.invokeFunction(\n",
              "            'suggestCharts', [key], {});\n",
              "      } catch (error) {\n",
              "        console.error('Error during call to suggestCharts:', error);\n",
              "      }\n",
              "      quickchartButtonEl.classList.remove('colab-df-spinner');\n",
              "      quickchartButtonEl.classList.add('colab-df-quickchart-complete');\n",
              "    }\n",
              "    (() => {\n",
              "      let quickchartButtonEl =\n",
              "        document.querySelector('#df-2be3d029-72c6-4262-ac70-3c3830f12c71 button');\n",
              "      quickchartButtonEl.style.display =\n",
              "        google.colab.kernel.accessAllowed ? 'block' : 'none';\n",
              "    })();\n",
              "  </script>\n",
              "</div>\n",
              "    </div>\n",
              "  </div>\n"
            ],
            "application/vnd.google.colaboratory.intrinsic+json": {
              "type": "dataframe",
              "variable_name": "df"
            }
          },
          "metadata": {},
          "execution_count": 17
        }
      ]
    },
    {
      "cell_type": "markdown",
      "source": [
        "### **Class Imbalance**"
      ],
      "metadata": {
        "id": "ZFTQx9uC2a3V"
      }
    },
    {
      "cell_type": "markdown",
      "source": [
        "#### Observing the Imbalance"
      ],
      "metadata": {
        "id": "CVM_o_JoOWcH"
      }
    },
    {
      "cell_type": "code",
      "source": [
        "df['Target'].value_counts()"
      ],
      "metadata": {
        "id": "xB7vcXW8nIuV",
        "colab": {
          "base_uri": "https://localhost:8080/"
        },
        "outputId": "61d42beb-f074-4d72-cee3-3933561498d8"
      },
      "execution_count": 18,
      "outputs": [
        {
          "output_type": "execute_result",
          "data": {
            "text/plain": [
              "Target\n",
              "1    3340\n",
              "0     280\n",
              "Name: count, dtype: int64"
            ]
          },
          "metadata": {},
          "execution_count": 18
        }
      ]
    },
    {
      "cell_type": "code",
      "source": [
        "plt.hist(df['Target'], bins=10)\n",
        "\n",
        "# Add labels and title\n",
        "plt.xlabel('Target')\n",
        "plt.ylabel('Frequency')\n",
        "plt.title('Histogram of Target')\n",
        "\n",
        "# Show the histogram\n",
        "plt.show()"
      ],
      "metadata": {
        "colab": {
          "base_uri": "https://localhost:8080/",
          "height": 472
        },
        "id": "s3zARvzbptD9",
        "outputId": "325afa89-b31b-4a33-8118-650e96102371"
      },
      "execution_count": 19,
      "outputs": [
        {
          "output_type": "display_data",
          "data": {
            "text/plain": [
              "<Figure size 640x480 with 1 Axes>"
            ],
            "image/png": "[encoded data removed]"
          },
          "metadata": {}
        }
      ]
    },
    {
      "cell_type": "markdown",
      "source": [
        "The numerical counts and the histogram both prove that there is a disparity between those that were diagnosed positively with thyroid as opposed to those who were diagnosed negatively. Creating distinct majority and minority classes.\n",
        "\n",
        "\n",
        "*   Class 1 - majority\n",
        "*   Class 0 - minority\n",
        "\n",
        "\n"
      ],
      "metadata": {
        "id": "4c8alFNeNcpO"
      }
    },
    {
      "cell_type": "markdown",
      "source": [
        "#### Class Priors"
      ],
      "metadata": {
        "id": "F0E-Ebne25a1"
      }
    },
    {
      "cell_type": "markdown",
      "source": [
        "![image.png](data:image/png;base64,iVBORw0KGgoAAAANSUhEUgAAAc0AAAEICAIAAACyAjhNAAAMQGlDQ1BJQ0MgUHJvZmlsZQAASImVVwdYU8kWnluSkEAIEEBASuhNEJESQEoILYD0ItgISYBQQgwEFTuyqOBaULGADV0VUeyA2BE7i2LvCyoKyrpYsCtvUkDXfeV75/vm3v/+c+Y/Z86dWwYA2kmuWJyNagCQI8qXxAT7M8YlJTNI3QABRoAGbIAbl5cnZkVFhQNog+e/27ub0BvaNQeZ1j/7/6tp8gV5PACQKIhT+Xm8HIgPAoBX8cSSfACIMt58ar5YhmED2hKYIMQLZThdgatkOFWB98p94mLYELcAoKLG5UrSAVC/AnlGAS8daqj3Qewk4gtFANAYEPvk5OTyIU6B2Ab6iCGW6TNTf9BJ/5tm6pAml5s+hBVzkZtKgDBPnM2d/n+W439bTrZ0MIYVbGoZkpAY2Zxh3W5n5YbJsBrEvaLUiEiItSD+IOTL/SFGKRnSkHiFP2rIy2PDmgFdiJ343IAwiA0hDhJlR4Qr+dQ0YRAHYrhC0GnCfE4cxHoQLxTkBcYqfTZJcmOUsdD6NAmbpeTPcyXyuLJYD6VZ8Syl/usMAUepj6kXZsQlQkyB2KJAmBABsTrEjnlZsWFKnzGFGeyIQR+JNEaWvwXEMQJRsL9CHytIkwTFKP1Lc/IG54ttyhByIpR4f35GXIiiPlgLjyvPH84FuyIQseIHdQR548IH58IXBAQq5o51C0TxsUqdD+J8/xjFWJwizo5S+uNmguxgGW8GsUteQaxyLJ6QDxekQh9PE+dHxSnyxAszuaFRinzwZSAcsEEAYAApbKkgF2QCYVtvQy+8UvQEAS6QgHQgAA5KZnBEorxHBI+xoBD8CZEA5A2N85f3CkAB5L8OsYqjA0iT9xbIR2SBpxDngDCQDa+l8lGioWgJ4AlkhP+IzoWNB/PNhk3W/+/5QfY7w4JMuJKRDkZk0AY9iYHEAGIIMYhoixvgPrgXHg6PfrA540zcY3Ae3/0JTwnthEeEG4QOwp3JwiLJT1mOBR1QP0hZi9Qfa4FbQU1X3B/3hupQGdfFDYAD7gLjsHBfGNkVsmxl3rKqMH7S/tsMfrgbSj+yExklDyP7kW1+Hqlup+46pCKr9Y/1UeSaOlRv9lDPz/HZP1SfD89hP3tiC7ED2DnsFHYBO4o1AAZ2AmvEWrFjMjy0up7IV9dgtBh5PllQR/iPeIN3VlbJPKdapx6nL4q+fME02TsasHPF0yXC9Ix8Bgt+EQQMjojnOILh7OTsAoDs+6J4fb2Jln83EN3W79z8PwDwPjEwMHDkOxd6AoB97vDxP/yds2HCT4cqAOcP86SSAgWHyw4E+JagwSdNHxgDc/j9cgDOwA14AT8QCEJBJIgDSWASzD4DrnMJmApmgnmgBJSBZWAVWAc2gi1gB9gN9oMGcBScAmfBJXAF3AD34OrpAi9AH3gHPiMIQkKoCB3RR0wQS8QecUaYiA8SiIQjMUgSkoKkIyJEisxE5iNlSDmyDtmM1CD7kMPIKeQC0o7cQTqRHuQ18gnFUDVUGzVCrdCRKBNloWFoHDoRTUenoIVoMboEXYNWo7vQevQUegm9gXagL9B+DGCqmC5mijlgTIyNRWLJWBomwWZjpVgFVo3VYU3wPl/DOrBe7CNOxOk4A3eAKzgEj8d5+BR8Nr4YX4fvwOvxFvwa3on34d8IVIIhwZ7gSeAQxhHSCVMJJYQKwjbCIcIZ+Cx1Ed4RiURdojXRHT6LScRM4gziYuJ64h7iSWI78TGxn0Qi6ZPsSd6kSBKXlE8qIa0l7SKdIF0ldZE+qKiqmKg4qwSpJKuIVIpUKlR2qhxXuaryTOUzWYNsSfYkR5L55OnkpeSt5CbyZXIX+TNFk2JN8abEUTIp8yhrKHWUM5T7lDeqqqpmqh6q0apC1bmqa1T3qp5X7VT9qKalZqfGVpugJlVborZd7aTaHbU3VCrViupHTabmU5dQa6inqQ+pH9Tp6o7qHHW++hz1SvV69avqL2lkmiWNRZtEK6RV0A7QLtN6NcgaVhpsDa7GbI1KjcMatzT6NemaozQjNXM0F2vu1Lyg2a1F0rLSCtTiaxVrbdE6rfWYjtHN6Ww6jz6fvpV+ht6lTdS21uZoZ2qXae/WbtPu09HScdFJ0JmmU6lzTKdDF9O10uXoZusu1d2ve1P30zCjYaxhgmGLhtUNuzrsvd5wPT89gV6p3h69G3qf9Bn6gfpZ+sv1G/QfGOAGdgbRBlMNNhicMegdrj3cazhveOnw/cPvGqKGdoYxhjMMtxi2GvYbGRsFG4mN1hqdNuo11jX2M840Xml83LjHhG7iYyI0WWlywuQ5Q4fBYmQz1jBaGH2mhqYhplLTzaZtpp/NrM3izYrM9pg9MKeYM83TzFeaN5v3WZhYjLWYaVFrcdeSbMm0zLBcbXnO8r2VtVWi1QKrBqtuaz1rjnWhda31fRuqja/NFJtqm+u2RFumbZbtetsrdqidq12GXaXdZXvU3s1eaL/evn0EYYTHCNGI6hG3HNQcWA4FDrUOnY66juGORY4Nji9HWoxMHrl85LmR35xcnbKdtjrdG6U1KnRU0aimUa+d7Zx5zpXO10dTRweNnjO6cfQrF3sXgcsGl9uudNexrgtcm12/urm7Sdzq3HrcLdxT3KvcbzG1mVHMxczzHgQPf485Hkc9Pnq6eeZ77vf8y8vBK8trp1f3GOsxgjFbxzz2NvPmem/27vBh+KT4bPLp8DX15fpW+z7yM/fj+23ze8ayZWWydrFe+jv5S/wP+b9ne7JnsU8GYAHBAaUBbYFagfGB6wIfBpkFpQfVBvUFuwbPCD4ZQggJC1kecotjxOFxajh9oe6hs0JbwtTCYsPWhT0KtwuXhDeNRceGjl0x9n6EZYQooiESRHIiV0Q+iLKOmhJ1JJoYHRVdGf00ZlTMzJhzsfTYybE7Y9/F+cctjbsXbxMvjW9OoCVMSKhJeJ8YkFie2DFu5LhZ4y4lGSQJkxqTSckJyduS+8cHjl81vmuC64SSCTcnWk+cNvHCJINJ2ZOOTaZN5k4+kEJISUzZmfKFG8mt5vanclKrUvt4bN5q3gu+H38lv0fgLSgXPEvzTitP6073Tl+R3pPhm1GR0StkC9cJX2WGZG7MfJ8VmbU9ayA7MXtPjkpOSs5hkZYoS9SSa5w7LbddbC8uEXdM8ZyyakqfJEyyLQ/Jm5jXmK8Nf+RbpTbSX6SdBT4FlQUfpiZMPTBNc5poWut0u+mLpj8rDCr8bQY+gzejeabpzHkzO2exZm2ejcxOnd08x3xO8ZyuucFzd8yjzMua93uRU1F50dv5ifObio2K5xY//iX4l9oS9RJJya0FXgs2LsQXChe2LRq9aO2ib6X80otlTmUVZV8W8xZf/HXUr2t+HViStqRtqdvSDcuIy0TLbi73Xb6jXLO8sPzxirEr6lcyVpaufLtq8qoLFS4VG1dTVktXd6wJX9O41mLtsrVf1mWsu1HpX7mnyrBqUdX79fz1Vzf4bajbaLSxbOOnTcJNtzcHb66vtqqu2ELcUrDl6daEred+Y/5Ws81gW9m2r9tF2zt2xOxoqXGvqdlpuHNpLVorre3ZNWHXld0BuxvrHOo279HdU7YX7JXufb4vZd/N/WH7mw8wD9QdtDxYdYh+qLQeqZ9e39eQ0dDRmNTYfjj0cHOTV9OhI45Hth81PVp5TOfY0uOU48XHB04Unug/KT7Zeyr91OPmyc33To87fb0luqXtTNiZ82eDzp4+xzp34rz3+aMXPC8cvsi82HDJ7VJ9q2vrod9dfz/U5tZWf9n9cuMVjytN7WPaj1/1vXrqWsC1s9c51y/diLjRfjP+5u1bE2513Obf7r6TfefV3YK7n+/NvU+4X/pA40HFQ8OH1X/Y/rGnw63jWGdAZ+uj2Ef3HvMev3iS9+RLV/FT6tOKZybParqdu4/2BPVceT7+edcL8YvPvSV/av5Z9dLm5cG//P5q7RvX1/VK8mrg9eI3+m+2v3V529wf1f/wXc67z+9LP+h/2PGR+fHcp8RPzz5P/UL6suar7demb2Hf7g/kDAyIuRKu/FcAgw1NSwPg9XYAqEkA0OH+jDJesf+TG6LYs8oR+E9YsUeUmxsAdfD/PboX/t3cAmDvVrj9gvq0CQBEUQGI8wDo6NFDbXCvJt9XyowI9wGbYr6m5qSCf2OKPecPef98BjJVF/Dz+V8JTnyZ4iUbbwAAADhlWElmTU0AKgAAAAgAAYdpAAQAAAABAAAAGgAAAAAAAqACAAQAAAABAAABzaADAAQAAAABAAABCAAAAACBJn68AAApLUlEQVR4Ae2dXYwlR3XHe5y1wbItMF82xAF/zF3MaEwEthU86wQi+cF3NlImklkh8rDOg+88RNEMihaINCKKNFKiWAkzDyia8QOsklhozcOgZO/w4CiOyI4dgfmIJ4PZOzYOODFgg0G2ZbAcJqeq+qO6u7q7urq6u273/8pa962uOnXOr+r+p7q6unrm6OjIwwcEQAAEQKA2ApfUZhmGQQAEQAAEGAHoLPoBCIAACNRLADpbL19YBwEQAAHoLPoACIAACNRLADpbL19YBwEQAAHoLPoACIAACNRLADpbL19YBwEQAAHoLPoACIAACNRLADpbL19YBwEQAAHoLPoACIAACNRLADpbL19YBwEQAAHoLPoACIAACNRLADpbL19YBwEQAAHoLPoACIAACNRLADpbL19YBwEQAAHoLPoACIAACNRLADpbL19YBwEQAAHoLPoACIAACNRLADpbL19YBwEQAAHoLPoACIAACNRLADpbL19YBwEQAAHoLPoACIAACNRLADpbL19YBwEQAAHoLPoACDRA4HDzxMzybgMVtVhFqRgLMxdmaDHS0lVDZ0sjQwEQKCDAJCL4nNg8LMhd7vTucmCZ/p9pnOXKPJldoZ7x7PIWzqQ9j1KmV3qhsxa6BkyAQESAZGFw7tTkSHwmp86dtqm0hxf3vYUNYX2y4a0O1Go63Do6urAyG3mldaRpXMuWaaa05+kUU9vtlYPOtsceNXeQwO7y4vZoHEnc7MqF6IuIVxrthjMJ6bR0SorW7MrayNs7mLATlP3E5q4YR5NVVjowLlkK05L5U7a9HOOiunBYHdTj2wjHxNJfAMmFeO50ZtlzYVGksH8Hq3ve9qIYx7OSkS12VqovHU7LKdDZlhsA1XeKABsRjpaGOTHtLg8O1sRYdzzaXuRScbh5enV+7I+At1jpdEqOSf/U3uqisMwt+IkkQIPQNqswUiNl/qxq5Mw5NkkGd5Z4IOPR3qo/kleFzOtRZc5ygP5gHU02FrwR40R/uoZLI297x5/xPjx/bm/h1Mmy4/esuuynQ2ftM4XF/hKYHOwVBE9XwYEODuYWvP2L/vRtqBlh+XRKeEocHG6ub8uqPhoHlsOMTICi5OGZjYW9c+eDCePoRJg/Osg2rmdTqisrZNJM32Epc+RBwZEktNyjtdLTJAUV2DwNnbVJE7ZAoJhAeK3MLoP5h8Zqk419dkEcXPymUyS7e6sDftHOB6opaZUyel5C92ePz8dOK74UG9e0KdeVDjlRs5w5cSrzKxNn/reIy2zuRUSmjaZOQGebIo16+kBAGmSpw6Vr7sX98D7WQpiJXRYf0YUx3dnyZx3TKUHm4D7YUTgyDs6k/s+GzNKHTWsUfIqNa9oM68oKWXYkzCwnFh3PnjzFhHYKZNaDzhY1Js6DQAkCfJAlTYKSyEQzomSHDQbnj/OJRKYPCctsWLcwN5BS0ynSyeJDVnx7PVjwsHv/qoVpzFyb/oyz50V1ZYesyFwYUjjRQjm50C7SZUH+lHihzfozQGfrZ4wa+kSAX/HTqJRf2c+wJV5n5YnD4Ra7GSUu+w/mR4JMeFk9Q2Ndnj2dYsiQ5kbH84E3bCSdXP1gYDfH5sLGeG6dRxctu1CGzKpVZc51h62B4PMawZ8uJrRUwnmZ9WboYiU3NJxslwC7t0t3kfNn4QIX05nTKUHeCv9nRmmFqIVfbAUnUBQEiAD9QVr0xpq/j/aIYTzbHvuoZhKu4AaIn8jGM8Ef7Sif9lHF4tr1ICMItEpgdye24qJVX/IqP5Z3EudaI0CXZuI6I1iDU86TisXLVYbcINASAS6z47zlyi05lqwW49kkETe+sxFu9LSL8Ck2SGVf/E8yH+VOFA8zy1lZnuCjkR5lXz7vBiN40XsCbDyhN6XWMirobMsNoFs9SWV0F4M0L1wcFD5UlGkpeOqGnqYJb/CSBeVjQtnpp1c9sRxpMncuWPeZWSVOgAAISASgsxIMZw8vCl0NbjzFHn8JV2tneh88dcNvzoplMdxC8DCOFz2Nk5vuP3Azu3KWHn/EBwRAQJsAdFYbVXsZt1dpAOkvumResAWJ/toguvAPnyoqdJAtfBSfrEd6NNMLa0IGEAABiQB0VoLh6iFtnRHbAYQ9kMO30+AbdrB/ys5RZT3So5nuKij4BQJuEoDOutkuSa+GW9IjmfEHcpJZdb7HLUSP7uiks62kks8x6dSJPCDQWwLQWVeaPti/g2YClAtn6TmjcFAbeyAnq0BuYDEL0Q02Lzud6zxbn3DaOzv2n2PKrQInQQAEfAJ4HgxdAQRAAATqJYDxbL18YR0EQAAEoLPoAyDgCoFXfvG6K67AD6sEoLNWccIYCJgSeHzyk8/uHJiWRjmnCWB/A6ebB871hMDTP3xp/YvfvuKN+D12s8Exnu1muyKqKSLw7AuvfPrzj7/2+q9efPk1+m+KPIermgSgs5qgkA0EaiFA8vqFh58KZ2affu6lWqqB0VYJYF1Xq/insHIacF195WVT6LjTLj/8zf/98mM/uObqy+ff8+alO97ttK9wrjwBzAeVZ9bvEo9PXtj9+v984g/mrnvbFf0mYTP6J/77Z8Pbfn3x9utsGoUtZwhg3sCZppgSR+hezZPP/vxP/u4/HvrqM1Pi8hS4SX+9bh28dQochYtGBKCzRth6XOjKyy+l6Pms4uFn/uGbdNBjGHZCp79bV1/5hmvefLkdc7DiHgHorHtt4rZH4eTs+2+4+lP33HLZMXShqg1GK2c/dPPbq1pBeYcJ4EficOM46dqlxy4hhf3kPfM/eP4VDGatNNFjTz5PSK2YghE3CUBn3WwXd72iy9u/vPfWD99yLf33pX9/xl1Hp8QzWr/xo5+9esv10NkpaTAjN6GzRthQyPPuufP6f3vih/QgE2BUIUB3wO543zuqWEBZ9wlAZ91vI0c9pIlaktoHH/meo/5NiVuPffeFD970lilxFm4aEoDOGoJDMSJA6z1/9OKrj37nx6BhRoAmuP/zez+9bfA2s+IoNS0EoLPT0lIu+kmLDT7+kRvosVHcEDNrnie+9+JN77wK28eY0ZuiUtDZKWosF12lucXfePsV468966Jzzvv0jad+8sGb8HiC8+1U2UHobGWEvTdw71030cIDbDRl0BEe/c7zd7wPK2cNyE1ZEejslDWYg+7SRgdY42XQLrQdIpXCNhEG6KauCHR26prMRYc//pEbscarbMNgMFuW2PTmh85Ob9s55DndySGp/cLDhw755LwrmJx1vomsOQidtYay54ZojdeLL72GNV6a3YA29n7quZduweO2mrymPBt0dsob0CX3R8PjD3xlgjVeOm3y9ckL77/hLdiFR4dVB/JAZzvQiK6EQA/p3/jOq7DGS6c9vvHUTz/0XjyeoIOqC3mgs11oRXdiuO/uwYOPPI01XoUtQhMsmDQopNSZDNDZzjSlE4HQbl40UUtS64Q3rjpBG3sTKGzs7Wr72PcLOmufac8t0sIDGqxhH6+cboCNvXPgdPIUdLaTzdpmUHRv5967Zh/4ysU2nXC7btrYG28Dc7uJLHsHnbUMFOaIwF0feNfLr76ONV7KzkC7er/48i9vvu5NyrNI7CQB6Gwnm7X9oOjF45/75yexxivdEjRpcCs2Qkxz6XQKdLbTzdtecDdeexWtD/3yo99vzwVHa6YVXdjY29G2qc0t6GxtaHtv+L67jz+Efbzi3QAbe8d59OUbdLYvLd18nPRim4/eeT02PZDJY2NvmUZ/jqGz/WnrFiL9/TveTe8ZxBqvEP1j333+t96LDWdDHn05gM72paVbiZPWeP3x7938uX96spXaHayUNja7bYAXKDjYMvW6BJ2tly+s04ttLrv0EtqdFiiIAK0sxsbePewJ0NkeNnrTIdMNMXpsAWu8muaO+pwhAJ11pim66wit8aJR7UNffaa7ISIyEMgjAJ3No4NztgjQpgc//vkvbFmDHRCYLgLQ2elqr2n1ltZ4fWJpTs/73eUTm82/AGd3eXlXz78KuXRDa8SZCnGgaEkC0NmSwJC9VgKHmydmdpYurMzWWovK+HBraWemToEvE1rtzqgIIK0+AtDZ+tjCckkCpESDg7WjrWHJcpayD7eO1g4G9Uht6dDqdMYSL5jRJzBzdHSknxs5QaA2AqWlqBZPdpdn1ucmlgfUpqHV4kwt2GA0nwDGs/l8cLYhAoebp1e9jTMtDWWjIIdnNrzV01bnh81Dq8GZKFIcNUgAOtsgbFSVSWD3/tW9hVMnK03L0ujPwkX/7MlTC3ur99u7J1YlNOvOZDYATtRKADpbK94eGyfVy/ik7+sfbq5ve1Vl1hZrpm3e9nrOkLbB0IqdsRU27NRJADpbJ90+26YbOUdH4xFHsLAxoS/sM9kgDVtMjDsPz5/b87z545VGs/ZYzx6f97y9c+cz15Y1GVqhM/bihqX6CEBn62MLyz4BaaQ6u3KWlNaLXZgLmV2YG7gCbDDHXMwR2sjR+kMr4UzkFo4cIwCddaxBOuXO4cV9ikfSIvrGB2iet70TzIAKmXVnOBu4mC+0jYUmeOU706lO08lgoLOdbFY3gvIHqvHbW0KgJAcnBzRp4Dk0nPU8Pob09g4mkpvxwwZDK3Ym7hq+OUgAOutgo3TFJa6g8dGs549evdGSv4QrpbvuRL9/MXOKtvnQcpxxhxg8ySAAnc0Ag+TKBHZ3tpOTBh5b5ESGF7RXytISf7ZsQVqj4N/tl1LKeSqvFshYB+bPbWQPaK2E5rtd5E+hM+XCR+42CEBn26DeizpTWsQkc5FJ74b8vJWYNlBOzzIFGnBdDtdZURIzQR+T8R2XtMX9YPXDxPSRhOqhiR5gyx9hDf+6SwA6627bTLdnXItoYcEgXEVLkskXeGk/1MrXT/GlYOL2Pwk1PRMrFogdaVvxMQqVZw4EJf2xdXnMFkLzPIv+lI8AJRomAJ1tGHhfqhNaNBr7qmgojozW7MoaW4VLik2bzAQaWRbj7jIbGI/GUnk+MZyYPdYyayM0m/5oOY1MrRKAzjaPX3cTUrueNbulqb/sSWNNrLidnjsNMFxiQksqabqTF3/eLDkpPLty4Sgc25ZgbSE0q/6UcB1Z2yIAnW2WPLta7Oj+qjJI5bInOUO5Y9pPhZ4ciJbclivt33wbrWnvauuvgVCuNbMQmpiw0PUnz5mSIJC9LQLQ2QbJk8h2dX/VOEV/8ZbWk7Q6t9P9mVSTW1/kmP4ANB6F8t6chdDM/NGCmQgAX10hAJ1trCXY9njzxpe+dtwcbo3nLe/6p3DM16Jwiawii5TkTxxIKYnDw82LS3ynBMOHosSKhjI6JUqohrM2QivpT7YzCU746i4B6GxDbWO+CalwkJYAZSz2LBdAA1ualtMij29Jlb1O63Dzfu/kUDyi5S9oPdxcztlNK8VDCHlqMExEM9bg+gPO+HNs3KyV0Mr5k+1MKlAkOEsAOluhafjyx3DZknyQ+gGzK1+Te9sVvMsoWveWpuwPCnsUQf8jhDb+UABDy/6u7C6f9s6weVWRiU3Rhkm6Nfj2VwdRqzDzO0tZb8jhI0hFa9kJzQ+F1k9o+ZPljG70yOcEgfi6G3wrTUC59R81bbQXoNgNMJZQuhZ23SxbLG8gKsH2JrRmLDLrL3SN9+rkwi4pu3TIPaL1BFGST1VOE5nYsoMoW+woF1FgULiXaYMZVPAJ6paDy7UROpYOTZzS9UfhTGgbB1NDwJsaT111VPxgYhro/yrDH2LWb61MSLkiUsYQ5eUuxzwuacB+duZSVY8sIeKtFbZd9VArhWbbmerhwIIJAcwbyEMUg2PV9Jl/Cz1YhyQm9VR3VQzqs1GETxAa3lSyUb/CBlu5FduUVpGnmSTWWvrbL2j4VCU0685o+IssNRCAzlaD6mto/JaJ0N7AsMiiXCQUZGn4/+LvgFtCyzcAz31bTDOQaCLd2zirvdJWxynz0GpwRsdh5LFOADpbDanqLoUvrMHWfw6uyxF3vON3nqpxsFCans+iRWcWX4Bo4BM9qLVvWWWZF2ah1eSMARYUqUoAOluJIH/UPXFn2l9UH1x7xge3WbXJSxdM12+xZ83oE93FplvzfBGElBKrP7XUKXa2hS/Drcncumn4lf0Vj5FIOyBUtigZKBtarc5IfuGwGQImk7oo4xNI3VDy74DJt3T8pOybPNxIVILlV2QuuMkjjIgu45eOktLm/HPJuz2B+wVdL23PZo8gJ+qtQO3seFR/rdqhNeGMGgNSayGA9QYVsEZKJglT8teaIWmiWiFschGeXU7w/aN0RWrCeV8nKWPBLzrXqYRRfAUBEKhIAPMGkkSWPKy8P571zfGsbCFYkgKygwAIFBGAzhYRyjzvr+jS2PpPbaKWzfEqbyGo9hWpIAACFQhAZ03hKVd0KYyJe/vp/VXF7TLdzfEUhtVJFbcQVBvVSZUfO8ZxHQR0WgF53CQAnTVsl6qrYquOhrPc9lc75C8l8NdApB6d8FcsFImEckVAxQksFC8kkNXkSHefAHTWrI18mdXY+i9jf1WxqrbMZn06jpbbQjBVO3/FQOHv3eQlBDrOIw8IdJUAdNaoZfVl1hM7+qVqKbc5Xqq4MkF7C0EHH51QBlR/Yol3CDX74p/6Q0cNDRKAzhrALrc/ntiWLzlBW3qzvkw/y28h6M9ZxB8WzrTf2RNslqTEO4SGW0s7dvYA7ixRBJZJoPgqETkiAv4C1RjN5GL/KHdwJEop8vnLWH1zigyBBb7HVsb62cCIVDxwU0qKLDm5X5fsXiPHDFEGnrz6tZYx5xnAuV4SmKGoY6qBLzUQYA9Rru7Rz9r0ha0ee4R2fW5i5aFQ7o23YcdYDbQaMMkQHKwZNYfFhmggUFThBgHMGzTRDuL5gfw1AE34wevgc8vW15M15r6Fiiq9Q6iBF/9YCBEm3CIAnW2mPapsQmrXQyazwR43di1PizW29C2x908Z19nMuhtb5ZbxGnlbJQCdbQi/+Sakdh0kkbG9v6pdB02s+fuSKdb9prcq44/hVZBZ/1VlDmyVa0IKZdohAJ1tjLvZJqR23evolqbDLbrN4N8PjO4Wsltd24uJJQJiRV5q5XApzHxJtFvbpJfyH5kbJwCdbRJ52U1IJd9ISqreBBM3f6pakXxy8VAaqfJLCM+LXeMLmU09CFcyEgdf/FMyAmRvlgB0tlneNKg9651WPrhasyPsddxnje6w1+yYJfOqRcGJF7V5npDZyu8QcvHFP5YwwkwtBI7VYhVGcwiQ1F7IOV3XqeHWhWFdth2w6w9U489e+Ps4RO7ZehBODGj5i39mI+s4AoEMAhjPZoBB8nQR4AoqTRow7/3Ra/CiNkq4uG81KkdW6lmNCcbqIACdrYMqbDZNQONFbcUu0QQ2W7IgrVHwFzJIKcJKxuZAxVUgRz8JQGfN2/0f//Vp88IoaZNASmaZZC5ue+xdP9KNPzFtoJyeZYpKz+wxp4IlW5TETNAH41aOAf8YE4DOGqPzHnwEOmtOz2ZJ8QahvdVBuIKWJJMv8JJENr9CvjTsSGwMwZZskVDTc87+s/jaVvLrwNneEoDO9rbpuxN45Re1hSjwgrUQBQ5sEoDO2qQJW20Q8Fd0abyoLesdQpLXeMGaBAOHtghAZ22RhJ2WCChXdJn7ovWCNX/hQtXnHcy9RMnpIgCdna72grdJAmUePdBZJqD1gjXfiWqP7yYjwffuEoDOdrdtexGZL7MaL2pjOPyJg2wymi9Ys/W8Q7YjONMpAtDZTjVn74IpJ7Oe+h1CITXdF6z5M8Lxh89CKzgAgSQB6GySCL5PD4FyL2pjcfmvZTuYSEGypbNsxwm2A8SZFXqOVmTa3tmNkqTsdKh6+CyeA99AQCYAnZVp4HhaCIhHt/wHC+jRgsX4c1zZYUQaGsvD1t5G72T0My1KSXJuPpxNPOMrn3988pOnf/iSnILjnhPA+8HMO8DJP3/4/F/cZV4eJdshwJ7z2o89J1bOD9L4wep8zsveSGc/u/Nff3Pf7de8+fJyppG7owQwnu1owyKsTAIV3yHEpoTzX/xz6+Ct9919/M8+/40f/ezVTC9wok8EoLN9am3EyglUeoeQ3ot/PnzLtR//yA2QWvQ4QQA6i57QQwLG7xAq8eKfuz7wrnvufM9n/v5br/zi9R4iRsgyAeisTAPH/SFg8A4hNjF7sFZiU5nF26/7nflrPv35xyG1/elYykihs0osSOwBgZLvEDJ78c8f/u6NH7r57SS1r73+qx4wRYhqAlhvoOaik4r1BjqUkIcIfHbn4MWXf7n2sd+87BhGNn3sEWj1PrY6Ym6YwCeW5q6+8g3rX/w2RrUNk3ekOuisIw0BNzpOgKT2smO/9tdfsvuGso5D60x40FmTpqSnfZ545kUqSf+KAxMrKNMzAp+8Z/611/+P5hB6FjfC9TA/a9IJdh79/gNfuShK3vG+d6x97P0mVlCmfwRo3oBmD2gOgYa3/Yu+vxFjPGvS9rRe5+orLxMlaTm6iQmU6SUBug/2qXtuefq5l/ASz161P3TWpLnp13LPnddTSRrM3njtVSYmUKavBK5447G/+qNbH3vyeUhtf7oAdNawrcWQFoNZQ3z9Liak9l++9dxDX32m3yT6Ej3mZ/vS0ojTNQK0ywxtgEB/qukJXTqmSVusrnWtjWz5A521RRJ2QKA0AZLXP33ga8PbrqOx7X13D2gaqrQJFJgGApg3mIZWgo8dJUAb1N571+yDjzxNgvvYd1/oaJQIy4POohOAQGsEnn3hle1ggeDjE+hsaw1Rd8XQ2boJwz4IZBK47m1X/O19t3/0t6+nge2LL7/25LM/z8yKE9NMAPOz09x68L1DBOjBwkuPXXLzdW/qUEwIxScAnUVXAAEQAIF6CWDeoF6+sA4CIAAC0Fn0ARAAARColwB0tl6+sA4CIAAC0Fn0ARAAARColwB0tl6+sA4CIAAC0Nn6+gC9HnVmeVfTfmHmwgyaFSGbowRYA5/YPHTUu7rdKtW9CzMXZqg7nKT9pnV2d3km+hj1KiOErFqD2qp7m+Rd+nva8yjFCEVpD1Agh0A9PSRq4nTVVRpdz9u82tP+hCl6xsPsdRykPY9SqnCr7mvDOnt4cd9b2Jgcsc9kw1sdGIifSdDDraOjCyuzJYu25a3sZtrzdIqcH8dNEqiph9TUxJremtWuabzW1kl7nk6p1YFM4w3rrOzH7MrayNs7mPhp7O9N8ImutqVUSmTfBqt73vYi5QwkWvo7Git3YnNXmPQLBiclk9FlPSXK+WU/xbHsbTqz0qYoGLoX+EvJUvbAq6zMLGs8j0hh/8ooWDVRPnZWqk8Yx7+1EsjvIWE3kJtJ7gnL5yPv5EaPCi7vJhudl2CJwSfsAZRo3J/l2q0bJ5eVNkXwYbBS55Wyh+Hx3OnMsufCoEhh/7b7Y2lRZwWIEMdgdX7Mx7lH49H2ouB8uHk6TD3aGnqzKxdoGLzgjVhOPj4lgov7/gCZlZNaYm918WCNWaSC4Yfyqypi55X5w4KJAzlzjk36i7CzxKMaj/ZWT4vZt93lgXDsiIcauazKnKg3/JpEMVwaeds7/mzw4flzewunTpYdv4fGcVCdQKKHKHsp69+e6L2TuXM0gEh+Yt3bWz9/UtH/rffn0Imcji1HF+bPOpAz59js8o+lRZ093Fzf9kZLTASZLozGgR4Oz2ws7J07798RCMVD1Yq84Jo/IcDKybkji2HRvIpIvQMPwvzRgeQtT4wy69mUgqJrmaCiwdyCt38xuPcR2pQyRx4UHElCG6NSUAynbREo6CGKXiq30+zKWRpAJD5yBm+4lZ750ut7Cav8a7a3Ye46jOvZlPp/R34sLejs3uqAX+bwv8NCcCYHsT/ls8fnRWPToG2ysc8mCTKugllBPongW4yZCTtMdJBVUZQjeaTwNpFF02YYFBUPr3jYxYzqI2dWnVelhX9meF/mf79U2ZBmmYBeD1H10kTPSftVNoNGtyn2NnQjUbsV45o25bo68WNpQWeD+2DSBT0b1kkfNqUefNj1sX/PLLrADk56rCCfRODX5uyfYKQYZokd5FQUyxd9UXgbneRHmjbDoORrQTYJovqEmVUns9JmT55i43nIbBagetL1eoiqlyZ6Ttq9shk0uk2xt6EbidqtGNe0GdbVlR9LCzobtmN0wP58ba8Hawd3719Nzi6yDAtzg6BEeKkdLxiczv5/PL+iouyimWdybYYzxlFd7E/6/HE+d8okUbKryCydVR+GKOg0F9pFGiOL2Rh1AaQ2TiDeQ6Lq5XQ2VSv3BZ5LzkAXQeHNobDRYxm8qI9FdVQ4qsN4rk1F/+/Kj8UNnaW5p6PxvD+fMMNuGYipqPCSgaWdFdOw7LYuv/jhvS5WMHN6IepssfxRRVEGg6Mcmwsb47l1PqexuD0ai6CGW+yGnZjoOJgfRRWqMkdnFUdxFJSBCS39DzKrgNVmUqyHSL10uMUXN7K+cNo7O5b6gu+tlGFm0eNTvPFGj1m21J9DUnUYz7Gp6v9d+bFg/9mwV3XigP4yLXrjgtmTTkSKIECgIoEGfyzQ2Ypt5VbxBnuOW4HDGxAoS6DJHwt0tmzruJy/yZ7jMgf4BgKFBBr9sUBnC9sDGUAABECgEgFH7oNVigGFQQAEQMBlAtBZl1sHvoEACHSBAHS2C62IGEAABFwmAJ11uXXgGwiAQBcIQGe70IqIAQRAwGUC0FmXWwe+gQAIdIEAdLYLrYgYQAAEXCYAnXW5deAbCIBAFwhAZ7vQiogBBEDAZQLQWZdbB76BAAh0gQB0tgutiBhAAARcJgCddbl14BsIgEAXCEBnu9CKiAEEQMBlAtBZl1sHvoEACHSBAHS2C62IGEAABFwmAJ11uXXgGwiAQBcIQGe70IqIAQRAwGUC0FmXWwe+gQAIdIEAdLYLrYgYQAAEXCYAnXW5deAbCIBAFwhAZ7vQiogBBEDAZQLQWZdbB76BAAh0gQB0tgutiBhAAARcJgCddbl14BsIgEAXCEBnu9CKiAEEQMBlAtBZl1sHvoEACHSBAHS2C62IGEAABFwmAJ11uXXgGwiAQBcIQGe70IqIAQRAwGUC0FmXWwe+gQAIdIEAdLYLrYgYQAAEXCYAnXW5deAbCIBAFwhAZ7vQiogBBEDAZQLQWZdbB76BAAh0gQB0tgutiBhAAARcJgCddbl14BsIgEAXCEBnu9CKiAEEQMBlAtBZl1sHvoEACHSBAHS2C62IGEAABFwmAJ11uXXgGwiAQBcIQGe70IqIAQRAwGUC0FmXWwe+gQAIdIEAdLYLrYgYQAAEXCbQks4ebp44sXlYAszucrn8smmqbHlXTnDkuDSELL/LwnEAiLXYBZOyBKiUAxCy2tNuOlDrEqixS1jS2d3lGdVHqY0UzczgYO3Cymzl/pSsNqhPTj+x6a2cnVufmalda+VaJRqBU7FoLUKI2dX6MmsfyNTEHgKqAUJou9YDoCa82hDK/NDq7BJH1j7jEcU/Gkf2eEIshc5R4sLGJMqkeTQeZZYS1cSrFhXF6mbZZO80Ky6ZjTsjVyO8k1OEb5nhlKyQZc+Bk2PNOpBWYhcBmhHg6JroFTmtYHYKqP22i/2k0781Sin9Q2NWEr9Xs0aSS3nyl0rHk42FpH88KeazcQz5PyRRkUyUKkqxMq5cn0u9ELL8yIeTVYr/zUtTys5ecKad2IVTpgSodAO9ogBc+dNATcyKIZg2rWm5nIa0NG9A013nz+15C3ODvEumw8317YWNM0NVHja+Fx/ldbaqSJRGA35S+b3V02LOl2ytz022kvUMz2wsbK+XmhaOqtA6qgSBE/AnNwQNAxJKN7PYZgKhq7L0LIsyMarP0diFg1kE6KwagjJYZWJEwOhIaVOZGJkHamJRCCFPbVj5bMFRd4mIv8lRjgaXOsX+BsgDSirMkuQhruIPkKiCn/AL03HCDM+jMWAJqsvJqnCyVJBFmRX2A6+CohkQRDaBi45VCAIL6f/nRCz+6meyVTjsm6cz8gVB4mvaB97aCbeZdY0OILIZxi48MSdA5Vn9Cc+Z1UTIia+iXiv/JiwnviqqoBxJh1lSv1AXQcj4oXGchYKjMK5ohxJJtuYNko7xSOK9IStwuWhWHur0il9CMk5RaU5GniHnPDPI3Mn6yMqTrNwvKlsX/sR+EpkBMnN+/oJa0hVnwylimwuECgtXwoN01WGKXBNLbCp24YA5gcBVud2ETfo3DDw8CE/ZPQjthwc59ilPuk8pkrL6kWk3Ey45groIAg9STUAumpGNJyu7RE675J2ypLPMdW9hgWZoo08ySJ4nmaiaZVH5m926Um6/A8U6oXSaDtU+xPMYfzOHEFSZ0erB6az/Z8HRMFcAhJ+ODWwzfGgtduFPBQJkIA9CMQERunxvV/TD+M80nStBsrgiv4CwZPJbC2rU6BdB1vT/20QdeVMIgWdIqQ0Z0As+s3jkQqkjO/OzuzvbdNGyduGCXHdqfjSS4Oho9/7VPW+0lJxKjTLoH+0un/bO8h/N3uogPb2ob8gwpzmEsMLZk6cWvP2LZRYWh2XTBxbZpo3HU5yLXbjXBIHDi/tU2d7BJCIye3yevswflxYuKnJF+Usd9Rh1xMkcQhNdIvIzPLKis7wTGYmleckwAnFAdw52lviS3OEW+1u0vWiqtGQp85Nn00You+fP0U/23HkrQlvZIc6U/eVc2lHcFpMboHJVZMxq7MK5ym7pEJhd4aOL2KhiuEXUYimqXBJBnYosxTTFqENg5g1rXjKs3OjAhs4W3vkTng3maFqhaLB2uLlZ/tEtunUory8YbrFrg+3F9O16TrlgUQT/jcjjcuk49tOJ87YA4XDz4vELa6P42IjVIm6NpsOJe1D4TcE2G4j45YuACUmu1NYZO0VFrvBPZQAEUtW7MiCUIVDIPi9DmYpqRp3nZrlzdaLWgaClNhRSKT/LIYjlllTE8FBMlcjzUxmGVDMjscKUIT6pFRnKmhUSk2upUrwqijMxQcNqS+WNKqlwFIsjz44CAksajScbI8aQfWEujkdx37MBMATKoGI+kV1FpgwglByvnUWkTPRP6GE1ij0AEYBRwjUnIAJL9QplsMpEpT/6iUqbykRmk07UiFrL6/ZR60FQdLYUQfWPwues+LloAVJmqnYfjEccynahY8qfCuchbOQYULauVFSW1LhX0k9IWb8SS5nEeHU5MQijaSdEGEFBP6ikzikB+G5mnvNtMbqB+VhkaV9ip4u/NBN7GKZC/cU5YwJUvDKEYkw2cjSKOsfhVlGXgZDVrkU/ilq6RDWdzWkO9SnGKakg6pyJ1MzWTeTL+2pceZ5Rg3NGfuQByDuX55+RI3kGi89VqTIY2SpqMSVApqp4pPDEnaTygbES/sUU+9Os/qFOEeryBETrmZbLafuGdda4W1doXT/6GuDlcM0/ZeBLHoC8c9mOGDiRbUz/jGm1k40Nae+MRH1mBMiIqTeJ+t38Wjo4NtQbjfikEZW1rLOlvbEA1aROkzKFrtq4D8b+9ml/6J7K2FucqX5PQ7tGlpFuNSx64/gt4FIG7GZuB4IcQ3tAzGJni/ZO2lj95wYE2Yv6jkujnhzsedveEv1OaOGU0QKirGBa6m+lCdTlZ+M6Sw1BwR+tHfh7EWQ1jMV0sRzBGZEVkTUNQebZNpCysVPnF4v21DeH5dD0j9uGoO9plZylUJO40jQ+W2NiV2ZbRV2CQI1+ztCIt0o7omwDBKj9B/Q4B33oUi5nbVkDrjReRRR7P+NvEDihpid92CJ0Nqrb7mFnqw82dLY+trAMAiAAAoxAG/MGIA8CIAACfSIAne1TayNWEACBNghAZ9ugjjpBAAT6RAA626fWRqwgAAJtEIDOtkEddYIACPSJAHS2T62NWEEABNogAJ1tgzrqBAEQ6BMB6GyfWhuxggAItEEAOtsGddQJAiDQJwLQ2T61NmIFARBogwB0tg3qqBMEQKBPBKCzfWptxAoCINAGAehsG9RRJwiAQJ8IQGf71NqIFQRAoA0C0Nk2qKNOEACBPhGAzvaptRErCIBAGwSgs21QR50gAAJ9IgCd7VNrI1YQAIE2CEBn26COOkEABPpE4P8BbBDUVhI0QzUAAAAASUVORK5CYII=)\n",
        "\n",
        "\n",
        "We are trying to calculate **P(c)** which is basically the relative frequency of each class within our Target Variable."
      ],
      "metadata": {
        "id": "Pp-LwMhr4JHU"
      }
    },
    {
      "cell_type": "code",
      "source": [
        "class_prior = df['Target'].value_counts(normalize=True)\n",
        "print(\"Class Prior:\")\n",
        "print(class_prior)"
      ],
      "metadata": {
        "id": "V1MoEEaN2mN2",
        "colab": {
          "base_uri": "https://localhost:8080/"
        },
        "outputId": "dd309948-a33c-408d-abd0-bad2383c1ffa"
      },
      "execution_count": 20,
      "outputs": [
        {
          "output_type": "stream",
          "name": "stdout",
          "text": [
            "Class Prior:\n",
            "Target\n",
            "1    0.922652\n",
            "0    0.077348\n",
            "Name: proportion, dtype: float64\n"
          ]
        }
      ]
    },
    {
      "cell_type": "markdown",
      "source": [
        "#### Class Priors Classifier **(TODO)**"
      ],
      "metadata": {
        "id": "9liA-C1aQ4Vq"
      }
    },
    {
      "cell_type": "markdown",
      "source": [
        "In the following cell you have to create your own Classifier which classifies on the basis of these class priors. During training, this class computes class prior probabilities. During prediction, it simply outputs the class with the class with highest prior probability.\n",
        "\n",
        "Create two methods similar to scikitlearn as follows:\n",
        "\n",
        "\n",
        "*   fit(X, y) - computes class probabilities\n",
        "*   predict(X) - returns the predicted value\n",
        "\n",
        "\n"
      ],
      "metadata": {
        "id": "N7lE1t4pOnYW"
      }
    },
    {
      "cell_type": "code",
      "source": [
        "class ClassPriorClassifier:\n",
        "    def __init__(self):\n",
        "        self.class_priors = None\n",
        "        self.classes = None\n",
        "\n",
        "    def fit(self, X, y):\n",
        "      \"\"\"\n",
        "      Input:\n",
        "      X : features as pandas dataframe\n",
        "      y : labels as pandas column\n",
        "\n",
        "      Output:\n",
        "      none: returns nothing, function is solely for computation purposes\n",
        "      \"\"\"\n",
        "\n",
        "      ##### TO DO ######\n",
        "\n",
        "      # Compute class prior probabilities during training #\n",
        "      self.classes = np.unique(y)\n",
        "      self.class_priors = {}\n",
        "      for cls in self.classes:\n",
        "          self.class_priors[cls] = np.mean(y == cls)\n",
        "\n",
        "      ###### END #######\n",
        "\n",
        "\n",
        "\n",
        "    def predict(self, X):\n",
        "      \"\"\"\n",
        "      Input:\n",
        "      X : features as pandas dataframe\n",
        "\n",
        "      Output:\n",
        "      predictions: returns the predicted values\n",
        "      \"\"\"\n",
        "\n",
        "      ##### TO DO ######\n",
        "      # Predict the class with the highest prior probability for each sample in X and save in a list '\"\"predictions\"\"\"#\n",
        "      predictions = [max(self.class_priors, key=lambda cls: self.class_priors[cls]) for _ in range(len(X))]\n",
        "\n",
        "      ###### END #######\n",
        "\n",
        "      return predictions"
      ],
      "metadata": {
        "id": "gwv_C9OSqMp7"
      },
      "execution_count": 21,
      "outputs": []
    },
    {
      "cell_type": "code",
      "source": [
        "X = df.drop('Target',axis=1)\n",
        "y= df['Target']"
      ],
      "metadata": {
        "id": "DBBKcPO6s0D3"
      },
      "execution_count": 22,
      "outputs": []
    },
    {
      "cell_type": "markdown",
      "source": [
        "##### Class Priors Classifier Training"
      ],
      "metadata": {
        "id": "zaKMtyLmRAZX"
      }
    },
    {
      "cell_type": "code",
      "source": [
        "# train test split\n",
        "X_train, X_test, y_train, y_test = train_test_split(X, y, test_size=0.3, random_state=42)"
      ],
      "metadata": {
        "id": "tWLz-LChOQLB"
      },
      "execution_count": 23,
      "outputs": []
    },
    {
      "cell_type": "code",
      "source": [
        "# Train classifier\n",
        "\n",
        "classifier = ClassPriorClassifier()\n",
        "classifier.fit(X_train, y_train)\n",
        "\n",
        "# Predict using the trained classifier\n",
        "predictions = classifier.predict(X_test)\n"
      ],
      "metadata": {
        "id": "h-Y3fgenN5O4"
      },
      "execution_count": 24,
      "outputs": []
    },
    {
      "cell_type": "markdown",
      "source": [
        "##### Class Priors Classifier Evaluation"
      ],
      "metadata": {
        "id": "4nH8L1TcRnVk"
      }
    },
    {
      "cell_type": "markdown",
      "source": [
        "The following function 'metrics' has the necessary evaluation metrics that will be used multiple times across this notebook."
      ],
      "metadata": {
        "id": "m5foCQ1EQkif"
      }
    },
    {
      "cell_type": "code",
      "source": [
        "def metrics(predictions,y):\n",
        "  accuracy = accuracy_score(y, predictions)\n",
        "  print('Accuracy: ',accuracy)\n",
        "  precision = precision_score(y, predictions, average='weighted', labels=np.unique(predictions))\n",
        "  print('Precision: ',precision)\n",
        "  recall = recall_score(y, predictions, average='weighted', labels=np.unique(predictions))\n",
        "  print('Recall: ',recall)\n",
        "  f1 = f1_score(y, predictions, average='weighted', labels=np.unique(predictions))\n",
        "  print('F1-score: ', f1)"
      ],
      "metadata": {
        "id": "R5W7017oNR2B"
      },
      "execution_count": 25,
      "outputs": []
    },
    {
      "cell_type": "code",
      "source": [
        "# Model Evaluation on Test Set\n",
        "metrics(predictions,y_test)"
      ],
      "metadata": {
        "id": "blfBntOgONmj",
        "colab": {
          "base_uri": "https://localhost:8080/"
        },
        "outputId": "c51a466b-ea48-4a68-eb5e-9b3287154a7e"
      },
      "execution_count": 26,
      "outputs": [
        {
          "output_type": "stream",
          "name": "stdout",
          "text": [
            "Accuracy:  0.9244935543278084\n",
            "Precision:  0.9244935543278084\n",
            "Recall:  1.0\n",
            "F1-score:  0.9607655502392344\n"
          ]
        }
      ]
    },
    {
      "cell_type": "markdown",
      "source": [
        "As per the evaluation metrics above:\n",
        "\n",
        "Accuracy: 92.45%\n",
        "Precision: 92.45%\n",
        "Recall: 100%\n",
        "F1-score: 96.08%\n",
        "These metrics indicate that the classifier performs well overall, achieving high accuracy and precision. However, it's important to note that the recall is 100%, which suggests that the classifier correctly identifies all positive samples (class 1), but it might be overly optimistic due to class imbalance. Further analysis and possibly using other evaluation metrics would be beneficial to assess the classifier's performance comprehensively."
      ],
      "metadata": {
        "id": "FJgV1e6NMgpG"
      }
    },
    {
      "cell_type": "markdown",
      "source": [
        "###**Shuffle Split (TODO)**\n",
        "\n"
      ],
      "metadata": {
        "id": "3Cc0iQX5Rx_A"
      }
    },
    {
      "cell_type": "markdown",
      "source": [
        "This class shuffles the data before splitting it into train and test sets, allowing for randomness in the selection process. By randomly sampling from the entire dataset, ShuffleSplit ensures that each split contains a representative distribution of classes, which can help models learn from and generalize to imbalanced datasets more effectively.\n",
        "1. ***You will use this function to split the data into 20 different train/test splits.***\n",
        "2. ***Next, you will compute the min, max and average class ratios for train and test split.***"
      ],
      "metadata": {
        "id": "KyJPUmRFpzd1"
      }
    },
    {
      "cell_type": "code",
      "source": [
        "if isinstance(y, pd.DataFrame) or isinstance(y, pd.Series):\n",
        "    y = y.reset_index(drop=True)"
      ],
      "metadata": {
        "id": "OoqRbBe3Q_Va"
      },
      "execution_count": 27,
      "outputs": []
    },
    {
      "cell_type": "code",
      "source": [
        "##### TO DO ######\n",
        "\n",
        "# Initialize shuffle split and Split data into 20 different train_test_splits#\n",
        "\n",
        "shuffle_split = ShuffleSplit(n_splits=20, test_size=0.2, random_state=42)\n",
        "\n",
        "###### END #######"
      ],
      "metadata": {
        "id": "maf1CmB7PVHn"
      },
      "execution_count": 28,
      "outputs": []
    },
    {
      "cell_type": "code",
      "source": [
        "# Check your splits\n",
        "shuffle_split.get_n_splits(X)"
      ],
      "metadata": {
        "id": "TZdB6nmEPVyh",
        "colab": {
          "base_uri": "https://localhost:8080/"
        },
        "outputId": "f462b167-835e-456b-d5e0-1592485945ef"
      },
      "execution_count": 29,
      "outputs": [
        {
          "output_type": "execute_result",
          "data": {
            "text/plain": [
              "20"
            ]
          },
          "metadata": {},
          "execution_count": 29
        }
      ]
    },
    {
      "cell_type": "code",
      "source": [
        "##### TO DO ######\n",
        "\n",
        "## Compute the min, max and average class ratios for train and test split. ##\n",
        "\n",
        "train_ratios = []\n",
        "test_ratios = []\n",
        "\n",
        "for train_index, test_index in shuffle_split.split(X):\n",
        "    train_ratio = y.iloc[train_index].value_counts(normalize=True)\n",
        "    test_ratio = y.iloc[test_index].value_counts(normalize=True)\n",
        "    train_ratios.append(train_ratio)\n",
        "    test_ratios.append(test_ratio)\n",
        "\n",
        "train_ratios_df = pd.DataFrame(train_ratios)\n",
        "test_ratios_df = pd.DataFrame(test_ratios)\n",
        "\n",
        "min_train_ratio = train_ratios_df.min()\n",
        "max_train_ratio = train_ratios_df.max()\n",
        "avg_train_ratio = train_ratios_df.mean()\n",
        "\n",
        "min_test_ratio = test_ratios_df.min()\n",
        "max_test_ratio = test_ratios_df.max()\n",
        "avg_test_ratio = test_ratios_df.mean()\n",
        "\n",
        "###### END #######\n",
        "\n",
        "# Print the results\n",
        "print(\"Train Split - Min Class Ratio:\", min_train_ratio)\n",
        "print(\"Train Split - Max Class Ratio:\", max_train_ratio)\n",
        "print(\"Train Split - Average Class Ratio:\", avg_train_ratio)\n",
        "\n",
        "print(\"Test Split - Min Class Ratio:\", min_test_ratio)\n",
        "print(\"Test Split - Max Class Ratio:\", max_test_ratio)\n",
        "print(\"Test Split - Average Class Ratio:\", avg_test_ratio)"
      ],
      "metadata": {
        "id": "0fuMhTHEP291",
        "colab": {
          "base_uri": "https://localhost:8080/"
        },
        "outputId": "24f49e2d-aee9-4568-8256-5b47c89e6e6b"
      },
      "execution_count": 30,
      "outputs": [
        {
          "output_type": "stream",
          "name": "stdout",
          "text": [
            "Train Split - Min Class Ratio: Target\n",
            "1    0.918508\n",
            "0    0.073204\n",
            "dtype: float64\n",
            "Train Split - Max Class Ratio: Target\n",
            "1    0.926796\n",
            "0    0.081492\n",
            "dtype: float64\n",
            "Train Split - Average Class Ratio: Target\n",
            "1    0.921858\n",
            "0    0.078142\n",
            "dtype: float64\n",
            "Test Split - Min Class Ratio: Target\n",
            "1    0.906077\n",
            "0    0.060773\n",
            "dtype: float64\n",
            "Test Split - Max Class Ratio: Target\n",
            "1    0.939227\n",
            "0    0.093923\n",
            "dtype: float64\n",
            "Test Split - Average Class Ratio: Target\n",
            "1    0.925829\n",
            "0    0.074171\n",
            "dtype: float64\n"
          ]
        }
      ]
    },
    {
      "cell_type": "markdown",
      "source": [
        "### **Stratified Shuffle Split**\n",
        "\n"
      ],
      "metadata": {
        "id": "7CTGCN4-Qt11"
      }
    },
    {
      "cell_type": "markdown",
      "source": [
        "In this section you will explore the effects of StratifiedShuffleSplit on various model performances\n",
        "1. Ridge Classifier\n",
        "1. Decision Tree Classifier\n",
        "3. Support Vector Classifier\n",
        "\n",
        "Note: please remember to give distinct model names to all as you will be reusing them further in the notebook.\n",
        "\n",
        "\n",
        "***In the following cell you will generate one train/test split using StratifiedShuffleSplit.***"
      ],
      "metadata": {
        "id": "FIo3dzDip7XE"
      }
    },
    {
      "cell_type": "markdown",
      "source": [
        "#### **Splitting the data**"
      ],
      "metadata": {
        "id": "HkgfffqjWieC"
      }
    },
    {
      "cell_type": "code",
      "source": [
        "##### TO DO ######\n",
        "\n",
        "# Initialize StratifiedShuffleSplit with 1 split #\n",
        "strat_shuffle_split = StratifiedShuffleSplit(n_splits=1, test_size=0.2, random_state=42)\n",
        "\n",
        "## Split and Store train and test sets in X_train_strat, y_train_stat, X_test_strat, y_test_strat\n",
        "for train_index, test_index in strat_shuffle_split.split(X, y):\n",
        "    X_train_strat, X_test_strat = X.iloc[train_index], X.iloc[test_index]\n",
        "    y_train_strat, y_test_strat = y.iloc[train_index], y.iloc[test_index]\n",
        "\n",
        "###### END #######"
      ],
      "metadata": {
        "id": "T-3Z2ED8UWhQ"
      },
      "execution_count": 31,
      "outputs": []
    },
    {
      "cell_type": "code",
      "source": [
        "# Print the shapes of the train and test sets\n",
        "print(\"Train set shape:\", X_train_strat.shape, y_train_strat.shape)\n",
        "print(\"Test set shape:\", X_test_strat.shape, y_test_strat.shape)\n",
        "\n",
        "# Print the unique values and their counts in the target variable y for both train and test sets\n",
        "print(\"Train set - Unique values and counts:\", np.unique(y_train_strat, return_counts=True))\n",
        "print(\"Test set - Unique values and counts:\", np.unique(y_test_strat, return_counts=True))"
      ],
      "metadata": {
        "id": "NmmkVUq0SP8i",
        "colab": {
          "base_uri": "https://localhost:8080/"
        },
        "outputId": "31d2e226-876b-4b13-87da-7627027c4fcb"
      },
      "execution_count": 32,
      "outputs": [
        {
          "output_type": "stream",
          "name": "stdout",
          "text": [
            "Train set shape: (2896, 22) (2896,)\n",
            "Test set shape: (724, 22) (724,)\n",
            "Train set - Unique values and counts: (array([0, 1]), array([ 224, 2672]))\n",
            "Test set - Unique values and counts: (array([0, 1]), array([ 56, 668]))\n"
          ]
        }
      ]
    },
    {
      "cell_type": "markdown",
      "source": [
        "#### **QUESTION (TODO)**"
      ],
      "metadata": {
        "id": "UJ54Ewh6WpkL"
      }
    },
    {
      "cell_type": "markdown",
      "source": [
        "**Question:**  *Why is StratifiedShuffleSplit better than ShuffleSplit?*\n",
        "\n",
        "\n",
        "**Your Answer:**\n",
        "\n",
        "\n",
        "\n",
        "```\n",
        "##### TO DO ######\n",
        "\n",
        "StratifiedShuffleSplit is often considered better than ShuffleSplit in scenarios where the distribution of classes or categories in the dataset\n",
        "is imbalanced. StratifiedShuffleSplit is more suitable over ShuffleSplit in our case because of better performance in the below qualities\n",
        "\n",
        "1.   Better Preservation of Class Distribution (In both Train and Test Data)\n",
        "2.   Improved Model Training\n",
        "3.   Robustness to Variability\n",
        "4.   More Reliable Evaluation\n",
        "\n",
        "Overall, StratifiedShuffleSplit is preferred over ShuffleSplit when working with imbalanced datasets or when it's important to maintain the\n",
        "class distribution in the train/test splits (especially in Imbalanced Datasets). It helps improve model training, generalization, and\n",
        "evaluation, leading to more accurate and reliable machine learning models.\n",
        "\n",
        "**Supporting Proof for maintaing Class Distribution**\n",
        "\n",
        "**Original Cleaned Dataset (3620)**\n",
        "\n",
        "*   1  -  0.922652 (3340)\n",
        "*   0  -  0.077348 (280)\n",
        "\n",
        "**y_train_strat (2896)** (80% of Data for Training)\n",
        "\n",
        "*   1  -  0.922652 (2672)\n",
        "*   0  -  0.077348 (224)\n",
        "\n",
        "**y_test_strat (724)** (20% of Data for Testing)\n",
        "\n",
        "*   1  -  0.922652 (668)\n",
        "*   0  -  0.077348 (56)\n",
        "\n",
        "###### END #######\n",
        "```\n",
        "\n"
      ],
      "metadata": {
        "id": "vS-WPfZ3VmrF"
      }
    },
    {
      "cell_type": "markdown",
      "source": [
        "**Supporting Context:**\n",
        "\n",
        "Both StratifiedShuffleSplit and ShuffleSplit are techniques used for generating train/test splits in machine learning. However, they differ in how they handle the distribution of classes or categories within the dataset\n",
        "\n",
        "**StratifiedShuffleSplit:**\n",
        "\n",
        "StratifiedShuffleSplit ensures that the class distribution is preserved in both the train and test sets. It divides the dataset into homogeneous subgroups (strata) based on the target variable (class labels) and then randomly shuffles and splits the data while maintaining the proportions of each class in each split.\n",
        "\n",
        "*   **Preservation of Class Distribution:** The primary advantage of\n",
        "StratifiedShuffleSplit is its ability to maintain a balanced representation of classes in both train and test sets, making it particularly useful for imbalanced datasets.\n",
        "\n",
        "\n",
        "**ShuffleSplit:**\n",
        "\n",
        "ShuffleSplit, on the other hand, performs simple random shuffling of the dataset without considering the class distribution. It randomly shuffles the entire dataset and then splits it into train and test sets without regard to class proportions.\n",
        "\n",
        "*   **No Preservation of Class Distribution:** Unlike StratifiedShuffleSplit, ShuffleSplit does not guarantee a balanced representation of classes in the train/test splits. As a result, it may lead to imbalanced train/test sets, especially in cases where the dataset has unequal class proportions.\n",
        "\n",
        "\n",
        "**Conclusion:**\n",
        "In summary, the main difference between StratifiedShuffleSplit and ShuffleSplit lies in their treatment of class distribution. While StratifiedShuffleSplit ensures that the class distribution is preserved in the train/test splits, ShuffleSplit performs random shuffling without consideration of class proportions.\n",
        "\n",
        "Therefore, StratifiedShuffleSplit is often preferred in scenarios where maintaining class balance is important, such as when dealing with imbalanced datasets or when the distribution of classes significantly affects model performance."
      ],
      "metadata": {
        "id": "3gYEUPBdDJ8c"
      }
    },
    {
      "cell_type": "markdown",
      "source": [
        "#### **Training, Testing and Evaluation (TODO)**"
      ],
      "metadata": {
        "id": "JiecNW5pTqMe"
      }
    },
    {
      "cell_type": "markdown",
      "source": [
        "You have to make changes in the following function that will train the data on the given model and give evaluation metrics for comparison. This function will be used further in the notebook."
      ],
      "metadata": {
        "id": "xBhUDDpLXE8y"
      }
    },
    {
      "cell_type": "code",
      "source": [
        "def TrainAndEvaluate(model, model_name, X_train, y_train, X_test, y_test):\n",
        "    \"\"\"\n",
        "    Inputs:\n",
        "    model: the classifier that you want to train\n",
        "    model_name: name of the model as a string\n",
        "    X_train, y_train, X_test, y_test: the training and testing data\n",
        "\n",
        "    Returns nothing, only prints\n",
        "    \"\"\"\n",
        "\n",
        "    # Set random seed for reproducibility\n",
        "    np.random.seed(42)\n",
        "\n",
        "    # Fit the model\n",
        "    model.fit(X_train, y_train)\n",
        "    print(\"Model Training Complete!\")\n",
        "    print(\"-----------------------------------\")\n",
        "\n",
        "    print(model_name, \"Evaluation Metrics\")\n",
        "    print(\"-----------------------------------\")\n",
        "\n",
        "    print(\"Training Set: \")\n",
        "    # Make predictions on the training set and evaluate using the 'metrics' function defined earlier in the notebook\n",
        "    train_predictions = model.predict(X_train)\n",
        "    metrics(train_predictions, y_train)\n",
        "\n",
        "    print(\"-----------------------------------\")\n",
        "\n",
        "    print(\"Testing Set: \")\n",
        "    # Make predictions on the test set and evaluate using the 'metrics' function\n",
        "    test_predictions = model.predict(X_test)\n",
        "    metrics(test_predictions, y_test)"
      ],
      "metadata": {
        "id": "X5VHMBc2sSG4"
      },
      "execution_count": 33,
      "outputs": []
    },
    {
      "cell_type": "markdown",
      "source": [
        "##### **Ridge (TODO)**\n",
        "\n",
        "1. Initialize the Ridge classifier with `class_weights=None`\n",
        "2. Train and Evaluate the model using the TrainAndEvaluate function\n",
        "\n",
        "**Be sure to use the StratifiedShuffleSplit Data (X_train_strat, y_train_strat, X_test_strat, y_test_strat).**\n",
        "\n"
      ],
      "metadata": {
        "id": "8aXKQh3USpH1"
      }
    },
    {
      "cell_type": "code",
      "source": [
        "##### TO DO ######\n",
        "\n",
        "# Initialize the Ridge classifier (RC)\n",
        "ridge_classifier = RidgeClassifier(class_weight=None)\n",
        "\n",
        "# Use the TrainAndEvaluate function for Training and Evaluation\n",
        "TrainAndEvaluate(ridge_classifier, \"Ridge Classifier\", X_train_strat, y_train_strat, X_test_strat, y_test_strat)\n",
        "\n",
        "###### END #######"
      ],
      "metadata": {
        "id": "i-7iGhCfY_I0",
        "colab": {
          "base_uri": "https://localhost:8080/"
        },
        "outputId": "5eda6ec1-30af-4e59-ed6e-9092dae1bc77"
      },
      "execution_count": 34,
      "outputs": [
        {
          "output_type": "stream",
          "name": "stdout",
          "text": [
            "Model Training Complete!\n",
            "-----------------------------------\n",
            "Ridge Classifier Evaluation Metrics\n",
            "-----------------------------------\n",
            "Training Set: \n",
            "Accuracy:  0.931975138121547\n",
            "Precision:  0.936646067989116\n",
            "Recall:  0.931975138121547\n",
            "F1-score:  0.9064893716370815\n",
            "-----------------------------------\n",
            "Testing Set: \n",
            "Accuracy:  0.9281767955801105\n",
            "Precision:  0.9162319824685948\n",
            "Recall:  0.9281767955801105\n",
            "F1-score:  0.9024885830166385\n"
          ]
        }
      ]
    },
    {
      "cell_type": "markdown",
      "source": [
        "##### **Decision Tree (TODO)**\n",
        "\n",
        "1. Initialize the Decision Tree Classifier with `class_weights=None`\n",
        "2. Train and Evaluate the model using the TrainAndEvaluate function\n",
        "\n",
        " **Be sure to use the StratifiedShuffleSplit Data for the same.**\n"
      ],
      "metadata": {
        "id": "qvjSl6JYZn-w"
      }
    },
    {
      "cell_type": "code",
      "source": [
        "##### TO DO ######\n",
        "\n",
        "# Initialize the Decision Tree Classifier (DTC)\n",
        "decision_tree_classifier = DecisionTreeClassifier(class_weight=None)\n",
        "\n",
        "# Use the TrainAndEvaluate function for Training and Evaluation\n",
        "TrainAndEvaluate(decision_tree_classifier, \"Decision Tree Classifier\", X_train_strat, y_train_strat, X_test_strat, y_test_strat)\n",
        "\n",
        "###### END #######"
      ],
      "metadata": {
        "id": "9XGcpdgIb8TD",
        "colab": {
          "base_uri": "https://localhost:8080/"
        },
        "outputId": "c7b8d304-1084-46c9-b980-c974411b658a"
      },
      "execution_count": 35,
      "outputs": [
        {
          "output_type": "stream",
          "name": "stdout",
          "text": [
            "Model Training Complete!\n",
            "-----------------------------------\n",
            "Decision Tree Classifier Evaluation Metrics\n",
            "-----------------------------------\n",
            "Training Set: \n",
            "Accuracy:  1.0\n",
            "Precision:  1.0\n",
            "Recall:  1.0\n",
            "F1-score:  1.0\n",
            "-----------------------------------\n",
            "Testing Set: \n",
            "Accuracy:  0.9737569060773481\n",
            "Precision:  0.9763400224554326\n",
            "Recall:  0.9737569060773481\n",
            "F1-score:  0.9746438957496856\n"
          ]
        }
      ]
    },
    {
      "cell_type": "markdown",
      "source": [
        "##### **Support Vector (TODO)**\n",
        "\n",
        "1. Initialize SVC with `class_weights=None`\n",
        "2. Train and Evaluate the model using the TrainAndEvaluate function\n",
        "\n",
        "    **Be sure to use the StratifiedShuffleSplit Data for the same.**\n"
      ],
      "metadata": {
        "id": "c7_2F7w8Z83L"
      }
    },
    {
      "cell_type": "code",
      "source": [
        "##### TO DO ######\n",
        "\n",
        "# Initialize the Support Vector Classifier (SVC)\n",
        "support_vector_classifier = SVC(class_weight=None)\n",
        "\n",
        "# Use the TrainAndEvaluate function for Training and Evaluation\n",
        "TrainAndEvaluate(support_vector_classifier, \"Support Vector Classifier\", X_train_strat, y_train_strat, X_test_strat, y_test_strat)\n",
        "\n",
        "###### END #######"
      ],
      "metadata": {
        "id": "hurBumyAdYO3",
        "colab": {
          "base_uri": "https://localhost:8080/"
        },
        "outputId": "75ad779f-61f8-4edc-8d1d-5bbd44611433"
      },
      "execution_count": 36,
      "outputs": [
        {
          "output_type": "stream",
          "name": "stdout",
          "text": [
            "Model Training Complete!\n",
            "-----------------------------------\n",
            "Support Vector Classifier Evaluation Metrics\n",
            "-----------------------------------\n",
            "Training Set: \n",
            "Accuracy:  0.9295580110497238\n",
            "Precision:  0.9345545916289506\n",
            "Recall:  0.9295580110497238\n",
            "F1-score:  0.9014060263158875\n",
            "-----------------------------------\n",
            "Testing Set: \n",
            "Accuracy:  0.9267955801104972\n",
            "Precision:  0.9321767649290045\n",
            "Recall:  0.9267955801104972\n",
            "F1-score:  0.895312257405399\n"
          ]
        }
      ]
    },
    {
      "cell_type": "markdown",
      "source": [
        "#### **Hyperparameter Tuning (TODO)**\n",
        "\n",
        "Next, you have to tune the hyperparamater `class_weight` to find the best f-score for each of these classifiers.\n",
        "\n",
        "Make necessary changes in the CrossValidate function\n",
        "\n"
      ],
      "metadata": {
        "id": "MxvOgfcieMJC"
      }
    },
    {
      "cell_type": "code",
      "source": [
        "def CrossValidate(model, param_grid):\n",
        "\n",
        "    ##### TO DO ######\n",
        "\n",
        "    # Set random seed for reproducibility\n",
        "    np.random.seed(42)\n",
        "\n",
        "    # Perform grid search with cross-validation and refit the best estimator\n",
        "    # keep 'refit' = True, scoring = F1 since we are observing the f score\n",
        "    grid_search = GridSearchCV(estimator=model, param_grid=param_grid, scoring='f1', cv=5, refit=True)\n",
        "    grid_search.fit(X_train_strat, y_train_strat)\n",
        "\n",
        "    ###### END #######\n",
        "\n",
        "    print(\"Training Set: \")\n",
        "\n",
        "    ##### TO DO ######\n",
        "\n",
        "    # Make predictions on the training set and evaluate using the 'metrics' function\n",
        "    train_predictions = grid_search.predict(X_train_strat)\n",
        "    metrics(train_predictions, y_train_strat)\n",
        "\n",
        "    ###### END #######\n",
        "    print(\"-----------------------------------\")\n",
        "\n",
        "    print(\"Testing Set: \")\n",
        "\n",
        "    ##### TO DO ######\n",
        "\n",
        "    # Make predictions on the testing set and evaluate using the 'metrics' function\n",
        "    test_predictions = grid_search.predict(X_test_strat)\n",
        "    metrics(test_predictions, y_test_strat)\n",
        "\n",
        "    ###### END #######\n",
        "    print(\"-----------------------------------\")\n",
        "\n",
        "\n",
        "    ###### TODO #######\n",
        "\n",
        "    # Store best hyperparameters and results\n",
        "    best_hyperparams = grid_search.best_params_\n",
        "\n",
        "    # Store results of grid search\n",
        "    results = grid_search.cv_results_\n",
        "\n",
        "    ###### END #######\n",
        "\n",
        "    #Print the Best Hyperparameters\n",
        "    print(\"Best Hyperparameters:\", best_hyperparams)\n",
        "\n",
        "    # Plotting f1-score vs Class Weight\n",
        "    params = results['params']\n",
        "    print(params)\n",
        "    mean_f1_scores = results['mean_test_score']\n",
        "\n",
        "    # Extract the parameter values and corresponding F1 scores\n",
        "    param_values = [param['class_weight'][0] for param in params]\n",
        "\n",
        "    # Plot the graph\n",
        "    plt.figure(figsize=(10, 6))\n",
        "    plt.plot(param_values, mean_f1_scores, marker='o', color='b', linestyle='-')\n",
        "\n",
        "    # Add labels and title\n",
        "    plt.xlabel('0 Class Weight')\n",
        "    plt.ylabel('Mean F1 Score')\n",
        "    plt.title('Grid Search Results:  F1 Score vs. Class Weight')\n",
        "\n",
        "    # Show grid and display the plot\n",
        "    plt.grid(True)\n",
        "    plt.show()"
      ],
      "metadata": {
        "id": "HdVVr7Bfhhwn"
      },
      "execution_count": 37,
      "outputs": []
    },
    {
      "cell_type": "markdown",
      "source": [
        "NOTE: Here is a sample notation for the hyperparameter `class_weight`:\n",
        "\n",
        "`{class1: weight1, class2: weight2}`\n",
        "\n",
        "`eg: [{class1: weight1, class2: weight2}, {class1: weight3, class2: weight4}....]`\n",
        "\n",
        "`where weight can be any positive number`\n",
        "\n",
        "You should have a collection / various combinations / list of these dictionaries of weights for each class in your param_grid for hyperparameter tuning.\n",
        "Be careful with your choice of weights keeping in mind which class deserves to have more weight.\n",
        "Then cross validate using the CrossValidate() function described earlier"
      ],
      "metadata": {
        "id": "GlASyxtccuE9"
      }
    },
    {
      "cell_type": "code",
      "source": [
        "##### TO DO ######\n",
        "\n",
        "# Initialize an empty list to store the parameter grid\n",
        "param_grid = []\n",
        "\n",
        "# Iterate over the weights range to generate parameter combinations\n",
        "for weight in range(1,11):\n",
        "    param_grid.append({'class_weight': [{0: weight, 1: 1}]}) #adjusting the weight of class 0 as we have an imbalanced dataset\n",
        "\n",
        "# Print the generated parameter grid\n",
        "print(param_grid)\n",
        "\n",
        "###### END #######"
      ],
      "metadata": {
        "id": "KwWFWXbUiub_",
        "colab": {
          "base_uri": "https://localhost:8080/"
        },
        "outputId": "0a0cc88f-f4b6-4994-a072-7d7ed03101f2"
      },
      "execution_count": 38,
      "outputs": [
        {
          "output_type": "stream",
          "name": "stdout",
          "text": [
            "[{'class_weight': [{0: 1, 1: 1}]}, {'class_weight': [{0: 2, 1: 1}]}, {'class_weight': [{0: 3, 1: 1}]}, {'class_weight': [{0: 4, 1: 1}]}, {'class_weight': [{0: 5, 1: 1}]}, {'class_weight': [{0: 6, 1: 1}]}, {'class_weight': [{0: 7, 1: 1}]}, {'class_weight': [{0: 8, 1: 1}]}, {'class_weight': [{0: 9, 1: 1}]}, {'class_weight': [{0: 10, 1: 1}]}]\n"
          ]
        }
      ]
    },
    {
      "cell_type": "markdown",
      "source": [
        "##### **Ridge (TODO)**"
      ],
      "metadata": {
        "id": "5R6hgn8JkO0e"
      }
    },
    {
      "cell_type": "code",
      "source": [
        "print(\"------------------------------------------\")\n",
        "print(\"Ridge Classifier Hyperparameter Tuning\")\n",
        "print(\"------------------------------------------\")\n",
        "\n",
        "##### TO DO ######\n",
        "\n",
        "# Cross Validate using the CrossValidate() function with your Ridge Classifier which was defined earlier and the param_grid\n",
        "CrossValidate(ridge_classifier, param_grid)\n",
        "\n",
        "###### END #######"
      ],
      "metadata": {
        "id": "cwUPhhiPj3gG",
        "colab": {
          "base_uri": "https://localhost:8080/",
          "height": 879
        },
        "outputId": "698f324d-3f8d-4957-fa9c-19f8de681888"
      },
      "execution_count": 39,
      "outputs": [
        {
          "output_type": "stream",
          "name": "stdout",
          "text": [
            "------------------------------------------\n",
            "Ridge Classifier Hyperparameter Tuning\n",
            "------------------------------------------\n",
            "Training Set: \n",
            "Accuracy:  0.9444060773480663\n",
            "Precision:  0.9415858436181684\n",
            "Recall:  0.9444060773480663\n",
            "F1-score:  0.9320978369685489\n",
            "-----------------------------------\n",
            "Testing Set: \n",
            "Accuracy:  0.9392265193370166\n",
            "Precision:  0.9355979024253208\n",
            "Recall:  0.9392265193370166\n",
            "F1-score:  0.9232283324053852\n",
            "-----------------------------------\n",
            "Best Hyperparameters: {'class_weight': {0: 4, 1: 1}}\n",
            "[{'class_weight': {0: 1, 1: 1}}, {'class_weight': {0: 2, 1: 1}}, {'class_weight': {0: 3, 1: 1}}, {'class_weight': {0: 4, 1: 1}}, {'class_weight': {0: 5, 1: 1}}, {'class_weight': {0: 6, 1: 1}}, {'class_weight': {0: 7, 1: 1}}, {'class_weight': {0: 8, 1: 1}}, {'class_weight': {0: 9, 1: 1}}, {'class_weight': {0: 10, 1: 1}}]\n"
          ]
        },
        {
          "output_type": "display_data",
          "data": {
            "text/plain": [
              "<Figure size 1000x600 with 1 Axes>"
            ],
            "image/png": "[encoded data removed]"
          },
          "metadata": {}
        }
      ]
    },
    {
      "cell_type": "markdown",
      "source": [
        "##### **Decision Tree (TODO)**"
      ],
      "metadata": {
        "id": "ehAJ-JPLkUo2"
      }
    },
    {
      "cell_type": "code",
      "source": [
        "print(\"------------------------------------------------\")\n",
        "print(\"Decision Tree Classifier Hyperparameter Tuning\")\n",
        "print(\"------------------------------------------------\")\n",
        "\n",
        "##### TO DO ######\n",
        "\n",
        "# Cross Validate your Decision Tree Classifier which was defined earlier using CrossValidate()\n",
        "CrossValidate(decision_tree_classifier, param_grid)\n",
        "\n",
        "###### END #######"
      ],
      "metadata": {
        "id": "Z9YRTBm0j4kE",
        "colab": {
          "base_uri": "https://localhost:8080/",
          "height": 879
        },
        "outputId": "7ce35149-236e-4df8-83bc-aaa28f911fd4"
      },
      "execution_count": 40,
      "outputs": [
        {
          "output_type": "stream",
          "name": "stdout",
          "text": [
            "------------------------------------------------\n",
            "Decision Tree Classifier Hyperparameter Tuning\n",
            "------------------------------------------------\n",
            "Training Set: \n",
            "Accuracy:  1.0\n",
            "Precision:  1.0\n",
            "Recall:  1.0\n",
            "F1-score:  1.0\n",
            "-----------------------------------\n",
            "Testing Set: \n",
            "Accuracy:  0.9792817679558011\n",
            "Precision:  0.9803618297520704\n",
            "Recall:  0.9792817679558011\n",
            "F1-score:  0.9796855504357443\n",
            "-----------------------------------\n",
            "Best Hyperparameters: {'class_weight': {0: 1, 1: 1}}\n",
            "[{'class_weight': {0: 1, 1: 1}}, {'class_weight': {0: 2, 1: 1}}, {'class_weight': {0: 3, 1: 1}}, {'class_weight': {0: 4, 1: 1}}, {'class_weight': {0: 5, 1: 1}}, {'class_weight': {0: 6, 1: 1}}, {'class_weight': {0: 7, 1: 1}}, {'class_weight': {0: 8, 1: 1}}, {'class_weight': {0: 9, 1: 1}}, {'class_weight': {0: 10, 1: 1}}]\n"
          ]
        },
        {
          "output_type": "display_data",
          "data": {
            "text/plain": [
              "<Figure size 1000x600 with 1 Axes>"
            ],
            "image/png": "[encoded data removed]"
          },
          "metadata": {}
        }
      ]
    },
    {
      "cell_type": "markdown",
      "source": [
        "##### **Support Vector (TODO)**"
      ],
      "metadata": {
        "id": "V3oJPvcAkYB0"
      }
    },
    {
      "cell_type": "code",
      "source": [
        "print(\"------------------------------------------------\")\n",
        "print(\"Support Vector Classifier Hyperparameter Tuning\")\n",
        "print(\"------------------------------------------------\")\n",
        "\n",
        "##### TO DO ######\n",
        "\n",
        "# Cross Validate your Support Vector Classifier which was defined earlier using CrossValidate()\n",
        "CrossValidate(support_vector_classifier, param_grid)\n",
        "\n",
        "###### END #######"
      ],
      "metadata": {
        "id": "lndCaFN0j_r8",
        "colab": {
          "base_uri": "https://localhost:8080/",
          "height": 879
        },
        "outputId": "069523c9-1616-448a-a6eb-56234893527b"
      },
      "execution_count": 41,
      "outputs": [
        {
          "output_type": "stream",
          "name": "stdout",
          "text": [
            "------------------------------------------------\n",
            "Support Vector Classifier Hyperparameter Tuning\n",
            "------------------------------------------------\n",
            "Training Set: \n",
            "Accuracy:  0.9478591160220995\n",
            "Precision:  0.9438088789071782\n",
            "Recall:  0.9478591160220995\n",
            "F1-score:  0.938789478185745\n",
            "-----------------------------------\n",
            "Testing Set: \n",
            "Accuracy:  0.9392265193370166\n",
            "Precision:  0.9305761641673245\n",
            "Recall:  0.9392265193370166\n",
            "F1-score:  0.9277826241478466\n",
            "-----------------------------------\n",
            "Best Hyperparameters: {'class_weight': {0: 5, 1: 1}}\n",
            "[{'class_weight': {0: 1, 1: 1}}, {'class_weight': {0: 2, 1: 1}}, {'class_weight': {0: 3, 1: 1}}, {'class_weight': {0: 4, 1: 1}}, {'class_weight': {0: 5, 1: 1}}, {'class_weight': {0: 6, 1: 1}}, {'class_weight': {0: 7, 1: 1}}, {'class_weight': {0: 8, 1: 1}}, {'class_weight': {0: 9, 1: 1}}, {'class_weight': {0: 10, 1: 1}}]\n"
          ]
        },
        {
          "output_type": "display_data",
          "data": {
            "text/plain": [
              "<Figure size 1000x600 with 1 Axes>"
            ],
            "image/png": "[encoded data removed]"
          },
          "metadata": {}
        }
      ]
    },
    {
      "cell_type": "markdown",
      "source": [
        "### **Oversampling**"
      ],
      "metadata": {
        "id": "xTO842tLpUha"
      }
    },
    {
      "cell_type": "markdown",
      "source": [
        "In this section we will explore various oversampling methods and observe the subsequent effects on the performance on our classifiers"
      ],
      "metadata": {
        "id": "7ZFl6uUJdm74"
      }
    },
    {
      "cell_type": "markdown",
      "source": [
        "Oversampling is a technique used in machine learning to address class imbalance problems, particularly in classification tasks where one class is significantly underrepresented compared to others.\n",
        "\n",
        "In oversampling, the minority class (the class with fewer instances) is artificially increased by generating synthetic samples or by duplicating existing samples until the class distribution is more balanced. This ensures that the model is exposed to enough examples of the minority class during training, helping it learn more effectively and make better predictions.\n",
        "\n",
        "\n",
        "**Common oversampling techniques include:**\n",
        "\n",
        "\n",
        "1. **Random Oversampling:** Randomly duplicating samples from the minority class until the class distribution is balanced.\n",
        "2. **Synthetic Minority Over-sampling Technique (SMOTE):** Generating synthetic samples for the minority class by interpolating between existing samples in feature space.\n",
        "3. **Adaptive Synthetic Sampling (ADASYN):** Similar to SMOTE, but it focuses on generating synthetic samples for difficult-to-learn minority instances.\n",
        "\n",
        "Oversampling can be an effective way to mitigate the impact of class imbalance on model performance, but it's important to be cautious of potential overfitting, particularly when the minority class is already well represented in the dataset."
      ],
      "metadata": {
        "id": "265KipYCoveT"
      }
    },
    {
      "cell_type": "markdown",
      "source": [
        "####**Random OverSampling**"
      ],
      "metadata": {
        "id": "MTbJgeMapV55"
      }
    },
    {
      "cell_type": "markdown",
      "source": [
        "Use the RandomOverSampler to resample the **Stratified training data** and test with **Stratified testing data**"
      ],
      "metadata": {
        "id": "paHBOgUSpceo"
      }
    },
    {
      "cell_type": "markdown",
      "source": [
        "##### Initialize **(TODO)**\n",
        "\n",
        "\n",
        "\n",
        "\n"
      ],
      "metadata": {
        "id": "QJ39nJNPev1x"
      }
    },
    {
      "cell_type": "code",
      "source": [
        "##### TO DO ######\n",
        "\n",
        "# Initialize RandomOverSampler\n",
        "random_oversampler = RandomOverSampler(random_state=42)\n",
        "\n",
        "# Fit and Assign\n",
        "X_resampled, y_resampled = random_oversampler.fit_resample(X_train_strat, y_train_strat)\n",
        "\n",
        "###### END #######"
      ],
      "metadata": {
        "id": "lMM3ZgDVpo59"
      },
      "execution_count": 42,
      "outputs": []
    },
    {
      "cell_type": "code",
      "source": [
        "# Check the shape of the resampled data\n",
        "print(\"Shape of X_resampled:\", X_resampled.shape)\n",
        "print(\"Shape of y_resampled:\", y_resampled.shape)\n",
        "\n",
        "# Optionally, print the class distribution before and after random oversampling\n",
        "print(\"Class Distribution before Random OverSampling:\")\n",
        "print(y_train_strat.value_counts())\n",
        "\n",
        "print(\"Class Distribution after Random OverSampling:\")\n",
        "print(pd.Series(y_resampled).value_counts())\n",
        "\n",
        "# Optionally, visualize the class distribution before and after random oversampling\n",
        "plt.figure(figsize=(10, 5))\n",
        "\n",
        "# Plot class distribution before random oversampling\n",
        "plt.subplot(1, 2, 1)\n",
        "plt.title('Class Distribution Before Random OverSampling')\n",
        "plt.hist(y_train_strat, bins=[-0.5, 0.5, 1.5], rwidth=0.8, color='skyblue')\n",
        "plt.xlabel('Class')\n",
        "plt.ylabel('Count')\n",
        "plt.xticks([0, 1])  # Set x-ticks to 0 and 1\n",
        "\n",
        "# Plot class distribution after random oversampling\n",
        "plt.subplot(1, 2, 2)\n",
        "plt.title('Class Distribution After Random OverSampling')\n",
        "plt.hist(y_resampled, bins=[-0.5, 0.5, 1.5], rwidth=0.8, color='lightgreen')\n",
        "plt.xlabel('Class')\n",
        "plt.ylabel('Count')\n",
        "plt.xticks([0, 1])  # Set x-ticks to 0 and 1\n",
        "\n",
        "plt.tight_layout()\n",
        "plt.show()"
      ],
      "metadata": {
        "colab": {
          "base_uri": "https://localhost:8080/",
          "height": 715
        },
        "id": "l0HGD3YeoIf6",
        "outputId": "637ba8e6-6456-421c-aa48-aede6f9686ed"
      },
      "execution_count": 43,
      "outputs": [
        {
          "output_type": "stream",
          "name": "stdout",
          "text": [
            "Shape of X_resampled: (5344, 22)\n",
            "Shape of y_resampled: (5344,)\n",
            "Class Distribution before Random OverSampling:\n",
            "Target\n",
            "1    2672\n",
            "0     224\n",
            "Name: count, dtype: int64\n",
            "Class Distribution after Random OverSampling:\n",
            "Target\n",
            "1    2672\n",
            "0    2672\n",
            "Name: count, dtype: int64\n"
          ]
        },
        {
          "output_type": "display_data",
          "data": {
            "text/plain": [
              "<Figure size 1000x500 with 2 Axes>"
            ],
            "image/png": "[encoded data removed]"
          },
          "metadata": {}
        }
      ]
    },
    {
      "cell_type": "markdown",
      "source": [
        "**Remember to use X_resampled, y_resampled for training and X_test_strat, y_test_strat for testing**"
      ],
      "metadata": {
        "id": "PX7hy8qMrMU-"
      }
    },
    {
      "cell_type": "markdown",
      "source": [
        "##### Refit Ridge Classifier **(TODO)**"
      ],
      "metadata": {
        "id": "9wTyR7S6eoMf"
      }
    },
    {
      "cell_type": "code",
      "source": [
        "print(\"Refitting Ridge Classifier... \")\n",
        "\n",
        "##### TO DO ######\n",
        "\n",
        "# Train and Evaluate using TrainAndEvaluate() with Ridge Classifier defined earlier\n",
        "TrainAndEvaluate(ridge_classifier, \"Ridge Classifier\", X_resampled, y_resampled, X_test_strat, y_test_strat)\n",
        "\n",
        "###### END #######"
      ],
      "metadata": {
        "id": "ifsrWTyVp-Oh",
        "colab": {
          "base_uri": "https://localhost:8080/"
        },
        "outputId": "0ce85f33-14fc-4a67-bde9-dea4414e3632"
      },
      "execution_count": 44,
      "outputs": [
        {
          "output_type": "stream",
          "name": "stdout",
          "text": [
            "Refitting Ridge Classifier... \n",
            "Model Training Complete!\n",
            "-----------------------------------\n",
            "Ridge Classifier Evaluation Metrics\n",
            "-----------------------------------\n",
            "Training Set: \n",
            "Accuracy:  0.7533682634730539\n",
            "Precision:  0.7580525148131579\n",
            "Recall:  0.7533682634730539\n",
            "F1-score:  0.7522439267085247\n",
            "-----------------------------------\n",
            "Testing Set: \n",
            "Accuracy:  0.819060773480663\n",
            "Precision:  0.9184423289360474\n",
            "Recall:  0.819060773480663\n",
            "F1-score:  0.8545607807790967\n"
          ]
        }
      ]
    },
    {
      "cell_type": "markdown",
      "source": [
        "##### Refit Decision Tree Classifier **(TODO)**"
      ],
      "metadata": {
        "id": "V0YJjs3wfSWc"
      }
    },
    {
      "cell_type": "code",
      "source": [
        "print(\"Refitting Decision Tree Classifier...\")\n",
        "\n",
        "##### TO DO ######\n",
        "\n",
        "# Train and Evaluate using TrainAndEvaluate() with Decision Tree Classifier defined earlier\n",
        "TrainAndEvaluate(decision_tree_classifier, \"Decision Tree Classifier\", X_resampled, y_resampled, X_test_strat, y_test_strat)\n",
        "\n",
        "###### END #######"
      ],
      "metadata": {
        "id": "qixmhHJjvxEJ",
        "colab": {
          "base_uri": "https://localhost:8080/"
        },
        "outputId": "c2c1bb27-bfa1-4f2f-e039-fcd9643a0f89"
      },
      "execution_count": 45,
      "outputs": [
        {
          "output_type": "stream",
          "name": "stdout",
          "text": [
            "Refitting Decision Tree Classifier...\n",
            "Model Training Complete!\n",
            "-----------------------------------\n",
            "Decision Tree Classifier Evaluation Metrics\n",
            "-----------------------------------\n",
            "Training Set: \n",
            "Accuracy:  1.0\n",
            "Precision:  1.0\n",
            "Recall:  1.0\n",
            "F1-score:  1.0\n",
            "-----------------------------------\n",
            "Testing Set: \n",
            "Accuracy:  0.9779005524861878\n",
            "Precision:  0.9799054076678385\n",
            "Recall:  0.9779005524861878\n",
            "F1-score:  0.9785706361357029\n"
          ]
        }
      ]
    },
    {
      "cell_type": "markdown",
      "source": [
        "##### Refit Support Vector Classifier **(TODO)**"
      ],
      "metadata": {
        "id": "kIwBE4UZfhV_"
      }
    },
    {
      "cell_type": "code",
      "source": [
        "print(\"Refitting Support Vector Classifier...\")\n",
        "\n",
        "##### TO DO ######\n",
        "\n",
        "# Train and evaluate using TrainAndEvaluate() with Support Vector Classifier defined earlier\n",
        "TrainAndEvaluate(support_vector_classifier, \"Support Vector Classifier\", X_resampled, y_resampled, X_test_strat, y_test_strat)\n",
        "\n",
        "###### END #######"
      ],
      "metadata": {
        "id": "l7-Ovi6WyDU0",
        "colab": {
          "base_uri": "https://localhost:8080/"
        },
        "outputId": "6ed5a5ce-e36e-4bc3-817d-e094c0ca23a7"
      },
      "execution_count": 46,
      "outputs": [
        {
          "output_type": "stream",
          "name": "stdout",
          "text": [
            "Refitting Support Vector Classifier...\n",
            "Model Training Complete!\n",
            "-----------------------------------\n",
            "Support Vector Classifier Evaluation Metrics\n",
            "-----------------------------------\n",
            "Training Set: \n",
            "Accuracy:  0.7750748502994012\n",
            "Precision:  0.7910499387347526\n",
            "Recall:  0.7750748502994012\n",
            "F1-score:  0.7719454982983308\n",
            "-----------------------------------\n",
            "Testing Set: \n",
            "Accuracy:  0.8867403314917127\n",
            "Precision:  0.9279524545439518\n",
            "Recall:  0.8867403314917127\n",
            "F1-score:  0.9020168933501063\n"
          ]
        }
      ]
    },
    {
      "cell_type": "markdown",
      "source": [
        "####**SMOTE**"
      ],
      "metadata": {
        "id": "_ulvfpcKyRDh"
      }
    },
    {
      "cell_type": "markdown",
      "source": [
        "Use SMOTE to resample the **Stratified training data** and test with **Stratified testing data**"
      ],
      "metadata": {
        "id": "mcaFOLE9f3Vy"
      }
    },
    {
      "cell_type": "markdown",
      "source": [
        "##### Initialize **(TODO)**"
      ],
      "metadata": {
        "id": "k-tnE4N3gqlC"
      }
    },
    {
      "cell_type": "code",
      "source": [
        "##### TO DO ######\n",
        "\n",
        "# Initialize SMOTE\n",
        "smote = SMOTE()\n",
        "\n",
        "# Fit and Assign\n",
        "X_resampled, y_resampled = smote.fit_resample(X_train_strat, y_train_strat)\n",
        "\n",
        "###### END #######"
      ],
      "metadata": {
        "id": "F1o04ZCw0S1F"
      },
      "execution_count": 47,
      "outputs": []
    },
    {
      "cell_type": "code",
      "source": [
        "# Check the shape of the resampled data\n",
        "print(\"Shape of X_resampled:\", X_resampled.shape)\n",
        "print(\"Shape of y_resampled:\", y_resampled.shape)\n",
        "\n",
        "# Optionally, print the class distribution before and after random oversampling\n",
        "print(\"Class Distribution before SMOTE Resampling:\")\n",
        "print(y_train_strat.value_counts())\n",
        "\n",
        "print(\"Class Distribution after SMOTE Resampling:\")\n",
        "print(pd.Series(y_resampled).value_counts())\n",
        "\n",
        "# Plot class distribution before resampling\n",
        "plt.figure(figsize=(10, 5))\n",
        "plt.subplot(1, 2, 1)\n",
        "plt.title('Class Distribution Before SMOTE Resampling')\n",
        "plt.hist(y_train_strat, bins=[-0.5, 0.5, 1.5], rwidth=0.8, color='skyblue')\n",
        "plt.xlabel('Class')\n",
        "plt.ylabel('Count')\n",
        "plt.xticks([0, 1])  # Set x-ticks to 0 and 1\n",
        "\n",
        "# Plot class distribution after resampling\n",
        "plt.subplot(1, 2, 2)\n",
        "plt.title('Class Distribution After SMOTE Resampling')\n",
        "plt.hist(y_resampled, bins=[-0.5, 0.5, 1.5], rwidth=0.8, color='lightgreen')\n",
        "plt.xlabel('Class')\n",
        "plt.ylabel('Count')\n",
        "plt.xticks([0, 1])  # Set x-ticks to 0 and 1\n",
        "\n",
        "plt.tight_layout()\n",
        "plt.show()"
      ],
      "metadata": {
        "colab": {
          "base_uri": "https://localhost:8080/",
          "height": 715
        },
        "id": "hPkhnN3PVXHS",
        "outputId": "cebc55a0-5940-4cfb-fe54-3e36062f5989"
      },
      "execution_count": 48,
      "outputs": [
        {
          "output_type": "stream",
          "name": "stdout",
          "text": [
            "Shape of X_resampled: (5344, 22)\n",
            "Shape of y_resampled: (5344,)\n",
            "Class Distribution before SMOTE Resampling:\n",
            "Target\n",
            "1    2672\n",
            "0     224\n",
            "Name: count, dtype: int64\n",
            "Class Distribution after SMOTE Resampling:\n",
            "Target\n",
            "1    2672\n",
            "0    2672\n",
            "Name: count, dtype: int64\n"
          ]
        },
        {
          "output_type": "display_data",
          "data": {
            "text/plain": [
              "<Figure size 1000x500 with 2 Axes>"
            ],
            "image/png": "[encoded data removed]"
          },
          "metadata": {}
        }
      ]
    },
    {
      "cell_type": "markdown",
      "source": [
        "**Remember to use X_resampled, y_resampled for training and X_test_strat, y_test_strat for testing**"
      ],
      "metadata": {
        "id": "gfQEb8YLs8OL"
      }
    },
    {
      "cell_type": "markdown",
      "source": [
        "##### Refit Ridge Classifier **(TODO)**"
      ],
      "metadata": {
        "id": "j2Mc5QaJgtmX"
      }
    },
    {
      "cell_type": "code",
      "source": [
        "print(\"Refitting Ridge Classifier...\")\n",
        "\n",
        "##### TO DO ######\n",
        "\n",
        "# Train and evaluate using TrainAndEvaluate() with Ridge Classifier defined earlier\n",
        "TrainAndEvaluate(ridge_classifier, \"Ridge Classifier\", X_resampled, y_resampled, X_test_strat, y_test_strat)\n",
        "\n",
        "###### END #######"
      ],
      "metadata": {
        "id": "ZGr3rHU9gOQc",
        "colab": {
          "base_uri": "https://localhost:8080/"
        },
        "outputId": "fb6e6d89-f76a-42cc-8ab5-24561c2a304e"
      },
      "execution_count": 49,
      "outputs": [
        {
          "output_type": "stream",
          "name": "stdout",
          "text": [
            "Refitting Ridge Classifier...\n",
            "Model Training Complete!\n",
            "-----------------------------------\n",
            "Ridge Classifier Evaluation Metrics\n",
            "-----------------------------------\n",
            "Training Set: \n",
            "Accuracy:  0.7610404191616766\n",
            "Precision:  0.7668123092824979\n",
            "Recall:  0.7610404191616766\n",
            "F1-score:  0.7597410523425897\n",
            "-----------------------------------\n",
            "Testing Set: \n",
            "Accuracy:  0.8287292817679558\n",
            "Precision:  0.9161765818868227\n",
            "Recall:  0.8287292817679558\n",
            "F1-score:  0.8606981101079169\n"
          ]
        }
      ]
    },
    {
      "cell_type": "markdown",
      "source": [
        "##### Refit Decision Tree Classifier **(TODO)**"
      ],
      "metadata": {
        "id": "cstkOGDugx0r"
      }
    },
    {
      "cell_type": "code",
      "source": [
        "print(\"Refitting Decision Tree Classifier...\")\n",
        "\n",
        "##### TO DO ######\n",
        "\n",
        "# Train and Evaluate using TrainAndEvaluate() with Decision Tree Classifier defined earlier\n",
        "TrainAndEvaluate(decision_tree_classifier, \"Decision Tree Classifier\", X_resampled, y_resampled, X_test_strat, y_test_strat)\n",
        "\n",
        "###### END #######"
      ],
      "metadata": {
        "id": "3WAVzA4BgTne",
        "colab": {
          "base_uri": "https://localhost:8080/"
        },
        "outputId": "bc455e3d-7ea6-4bd6-c694-ad22713d2c08"
      },
      "execution_count": 50,
      "outputs": [
        {
          "output_type": "stream",
          "name": "stdout",
          "text": [
            "Refitting Decision Tree Classifier...\n",
            "Model Training Complete!\n",
            "-----------------------------------\n",
            "Decision Tree Classifier Evaluation Metrics\n",
            "-----------------------------------\n",
            "Training Set: \n",
            "Accuracy:  1.0\n",
            "Precision:  1.0\n",
            "Recall:  1.0\n",
            "F1-score:  1.0\n",
            "-----------------------------------\n",
            "Testing Set: \n",
            "Accuracy:  0.9737569060773481\n",
            "Precision:  0.9763400224554326\n",
            "Recall:  0.9737569060773481\n",
            "F1-score:  0.9746438957496856\n"
          ]
        }
      ]
    },
    {
      "cell_type": "markdown",
      "source": [
        "##### Refit Support Vector Classifier **(TODO)**"
      ],
      "metadata": {
        "id": "2rjVC3Zeg0JX"
      }
    },
    {
      "cell_type": "code",
      "source": [
        "print(\"Refitting Support Vector Classifier...\")\n",
        "\n",
        "##### TO DO ######\n",
        "\n",
        "# Train and Evaluate using TrainAndEvaluate() with Support Vector Classifier defined earlier\n",
        "TrainAndEvaluate(support_vector_classifier, \"Support Vector Classifier\", X_resampled, y_resampled, X_test_strat, y_test_strat)\n",
        "\n",
        "###### END #######"
      ],
      "metadata": {
        "id": "mUyQfox8gZM8",
        "colab": {
          "base_uri": "https://localhost:8080/"
        },
        "outputId": "e00ee44c-9b73-43c0-b427-cd18de3ca6cd"
      },
      "execution_count": 51,
      "outputs": [
        {
          "output_type": "stream",
          "name": "stdout",
          "text": [
            "Refitting Support Vector Classifier...\n",
            "Model Training Complete!\n",
            "-----------------------------------\n",
            "Support Vector Classifier Evaluation Metrics\n",
            "-----------------------------------\n",
            "Training Set: \n",
            "Accuracy:  0.781811377245509\n",
            "Precision:  0.7922934509935864\n",
            "Recall:  0.781811377245509\n",
            "F1-score:  0.7798375397052536\n",
            "-----------------------------------\n",
            "Testing Set: \n",
            "Accuracy:  0.8798342541436464\n",
            "Precision:  0.9232044282580963\n",
            "Recall:  0.8798342541436464\n",
            "F1-score:  0.8962485777677955\n"
          ]
        }
      ]
    },
    {
      "cell_type": "markdown",
      "source": [
        "####**ADASYN**"
      ],
      "metadata": {
        "id": "bM-Enh2Vg5to"
      }
    },
    {
      "cell_type": "markdown",
      "source": [
        "Use ADASYN to resample the **Stratified training data** and test with **Stratified testing data**"
      ],
      "metadata": {
        "id": "TT5zGz7hg5t1"
      }
    },
    {
      "cell_type": "markdown",
      "source": [
        "##### Initialize **(TODO)**"
      ],
      "metadata": {
        "id": "Z1R-j8Q8g5t1"
      }
    },
    {
      "cell_type": "code",
      "source": [
        "##### TO DO ######\n",
        "\n",
        "# Initialize ADASYN\n",
        "adasyn = ADASYN()\n",
        "\n",
        "# Fit and Assign\n",
        "X_resampled, y_resampled = adasyn.fit_resample(X_train_strat, y_train_strat)\n",
        "\n",
        "###### END #######"
      ],
      "metadata": {
        "id": "ToJtl_Pmg5t1"
      },
      "execution_count": 52,
      "outputs": []
    },
    {
      "cell_type": "code",
      "source": [
        "# Check the shape of the resampled data\n",
        "print(\"Shape of X_resampled:\", X_resampled.shape)\n",
        "print(\"Shape of y_resampled:\", y_resampled.shape)\n",
        "\n",
        "# Optionally, print the class distribution before and after random oversampling\n",
        "print(\"Class Distribution before ADASYN Resampling:\")\n",
        "print(y_train_strat.value_counts())\n",
        "\n",
        "print(\"Class Distribution after ADASYN Resampling:\")\n",
        "print(pd.Series(y_resampled).value_counts())\n",
        "\n",
        "\n",
        "# Plot class distribution before resampling\n",
        "plt.figure(figsize=(10, 5))\n",
        "plt.subplot(1, 2, 1)\n",
        "plt.title('Class Distribution Before ADASYN Resampling')\n",
        "plt.hist(y_train_strat, bins=[-0.5, 0.5, 1.5], rwidth=0.8, color='skyblue')\n",
        "plt.xlabel('Class')\n",
        "plt.ylabel('Count')\n",
        "plt.xticks([0, 1])  # Set x-ticks to 0 and 1\n",
        "\n",
        "# Plot class distribution after resampling\n",
        "plt.subplot(1, 2, 2)\n",
        "plt.title('Class Distribution After ADASYN Resampling')\n",
        "plt.hist(y_resampled, bins=[-0.5, 0.5, 1.5], rwidth=0.8, color='lightgreen')\n",
        "plt.xlabel('Class')\n",
        "plt.ylabel('Count')\n",
        "plt.xticks([0, 1])  # Set x-ticks to 0 and 1\n",
        "\n",
        "plt.tight_layout()\n",
        "plt.show()"
      ],
      "metadata": {
        "colab": {
          "base_uri": "https://localhost:8080/",
          "height": 715
        },
        "id": "LV0ruERLSumN",
        "outputId": "32d518ab-2450-4eaf-b16f-4d9daf3ddf37"
      },
      "execution_count": 53,
      "outputs": [
        {
          "output_type": "stream",
          "name": "stdout",
          "text": [
            "Shape of X_resampled: (5330, 22)\n",
            "Shape of y_resampled: (5330,)\n",
            "Class Distribution before ADASYN Resampling:\n",
            "Target\n",
            "1    2672\n",
            "0     224\n",
            "Name: count, dtype: int64\n",
            "Class Distribution after ADASYN Resampling:\n",
            "Target\n",
            "1    2672\n",
            "0    2658\n",
            "Name: count, dtype: int64\n"
          ]
        },
        {
          "output_type": "display_data",
          "data": {
            "text/plain": [
              "<Figure size 1000x500 with 2 Axes>"
            ],
            "image/png": "[encoded data removed]"
          },
          "metadata": {}
        }
      ]
    },
    {
      "cell_type": "markdown",
      "source": [
        "**Remember to use X_resampled, y_resampled for training and X_test_strat, y_test_strat for testing**"
      ],
      "metadata": {
        "id": "03PdVZgRt5Uo"
      }
    },
    {
      "cell_type": "markdown",
      "source": [
        "##### Refit Ridge Classifier **(TODO)**"
      ],
      "metadata": {
        "id": "7aWwlOGIg5t1"
      }
    },
    {
      "cell_type": "code",
      "source": [
        "print(\"Refitting Ridge Classifier...\")\n",
        "\n",
        "##### TO DO ######\n",
        "\n",
        "# Train and Evaluate using TrainAndEvaluate() with Ridge Classifier defined earlier\n",
        "TrainAndEvaluate(ridge_classifier, \"Ridge Classifier\", X_resampled, y_resampled, X_test_strat, y_test_strat)\n",
        "\n",
        "###### END #######"
      ],
      "metadata": {
        "id": "KWZCxKrmg5t1",
        "colab": {
          "base_uri": "https://localhost:8080/"
        },
        "outputId": "9423a76a-3159-4c40-8cb2-6ccf96bb3958"
      },
      "execution_count": 54,
      "outputs": [
        {
          "output_type": "stream",
          "name": "stdout",
          "text": [
            "Refitting Ridge Classifier...\n",
            "Model Training Complete!\n",
            "-----------------------------------\n",
            "Ridge Classifier Evaluation Metrics\n",
            "-----------------------------------\n",
            "Training Set: \n",
            "Accuracy:  0.7696060037523452\n",
            "Precision:  0.7700411894194975\n",
            "Recall:  0.7696060037523452\n",
            "F1-score:  0.769495324496441\n",
            "-----------------------------------\n",
            "Testing Set: \n",
            "Accuracy:  0.7941988950276243\n",
            "Precision:  0.9192245428347404\n",
            "Recall:  0.7941988950276243\n",
            "F1-score:  0.8376232133548717\n"
          ]
        }
      ]
    },
    {
      "cell_type": "markdown",
      "source": [
        "##### Refit Decision Tree Classifier **(TODO)**"
      ],
      "metadata": {
        "id": "cyPDIE1Og5t1"
      }
    },
    {
      "cell_type": "code",
      "source": [
        "print(\"Refitting Decision Tree Classifier...\")\n",
        "\n",
        "##### TO DO ######\n",
        "\n",
        "# Train and Evaluate using TrainAndEvaluate() using Decision Tree Classifier defined earlier\n",
        "TrainAndEvaluate(decision_tree_classifier, \"Decision Tree Classifier\", X_resampled, y_resampled, X_test_strat, y_test_strat)\n",
        "\n",
        "###### END #######"
      ],
      "metadata": {
        "id": "f_FxI3Sqg5t1",
        "colab": {
          "base_uri": "https://localhost:8080/"
        },
        "outputId": "dfc410bb-20f0-40d3-b647-99555579bbb8"
      },
      "execution_count": 55,
      "outputs": [
        {
          "output_type": "stream",
          "name": "stdout",
          "text": [
            "Refitting Decision Tree Classifier...\n",
            "Model Training Complete!\n",
            "-----------------------------------\n",
            "Decision Tree Classifier Evaluation Metrics\n",
            "-----------------------------------\n",
            "Training Set: \n",
            "Accuracy:  1.0\n",
            "Precision:  1.0\n",
            "Recall:  1.0\n",
            "F1-score:  1.0\n",
            "-----------------------------------\n",
            "Testing Set: \n",
            "Accuracy:  0.9737569060773481\n",
            "Precision:  0.9770659053680861\n",
            "Recall:  0.9737569060773481\n",
            "F1-score:  0.9748214441594015\n"
          ]
        }
      ]
    },
    {
      "cell_type": "markdown",
      "source": [
        "##### Refit Support Vector Classifier **(TODO)**"
      ],
      "metadata": {
        "id": "F-EABW2-g5t2"
      }
    },
    {
      "cell_type": "code",
      "source": [
        "print(\"Refitting Support Vector Classifier...\")\n",
        "\n",
        "##### TO DO ######\n",
        "\n",
        "# Train and Evaluate using TrainAndEvaluate() with Support Vector Classifier defined earlier\n",
        "TrainAndEvaluate(support_vector_classifier, \"Support Vector Classifier\", X_resampled, y_resampled, X_test_strat, y_test_strat)\n",
        "\n",
        "###### END #######"
      ],
      "metadata": {
        "id": "JqHMOOn5g5t2",
        "colab": {
          "base_uri": "https://localhost:8080/"
        },
        "outputId": "9d2175fb-a8b9-4785-e433-052069352882"
      },
      "execution_count": 56,
      "outputs": [
        {
          "output_type": "stream",
          "name": "stdout",
          "text": [
            "Refitting Support Vector Classifier...\n",
            "Model Training Complete!\n",
            "-----------------------------------\n",
            "Support Vector Classifier Evaluation Metrics\n",
            "-----------------------------------\n",
            "Training Set: \n",
            "Accuracy:  0.7664165103189493\n",
            "Precision:  0.7665253259560904\n",
            "Recall:  0.7664165103189493\n",
            "F1-score:  0.7663832291939183\n",
            "-----------------------------------\n",
            "Testing Set: \n",
            "Accuracy:  0.7997237569060773\n",
            "Precision:  0.9253177049947601\n",
            "Recall:  0.7997237569060773\n",
            "F1-score:  0.8422029169904744\n"
          ]
        }
      ]
    },
    {
      "cell_type": "markdown",
      "source": [
        "####**SUMMARY**\n",
        "---\n",
        "\n",
        "Here's a summary of the assignment along with important observations and conclusions:\n",
        "\n",
        "**Dataset Overview:**\n",
        "\n",
        "The dataset contains information about thyroid patients, with a significant class imbalance between positive (1) and negative (0) diagnoses.\n",
        "\n",
        "**Data Preprocessing:**\n",
        "\n",
        "Data cleaning involved dropping redundant columns, handling missing values, converting categorical variables, and scaling numerical features.\n",
        "The target variable ('binaryClass') was renamed to 'Target', and '?' values were replaced with NaN.\n",
        "\n",
        "**Class Imbalance Analysis:**\n",
        "\n",
        "The class distribution showed a significant imbalance, with the majority class (1) comprising 92.27% of the data.\n",
        "Class imbalance can lead to biased models, particularly when evaluating metrics like accuracy.\n",
        "\n",
        "**Model Training and Evaluation:**\n",
        "\n",
        "Three classifiers were trained and evaluated: Ridge Classifier, Decision Tree Classifier, and Support Vector Classifier (SVC).\n",
        "Initial evaluations showed decent performance metrics on the test set, but class imbalance might affect the reliability of these metrics.\n",
        "\n",
        "**Hyperparameter Tuning:**\n",
        "\n",
        "Hyperparameter tuning was performed to optimize the class weights of the classifiers using grid search with cross-validation.\n",
        "The best class weights were selected based on the F1-score metric, with different weight combinations tested.\n",
        "\n",
        "**Oversampling Techniques:**\n",
        "\n",
        "Oversampling techniques like Random Oversampling, SMOTE, and ADASYN were applied to address class imbalance.\n",
        "Resampled data was used to refit the classifiers, aiming to improve model performance on minority class prediction.\n",
        "\n",
        "**Model Refitting and Evaluation:**\n",
        "\n",
        "After oversampling, the classifiers were refit and evaluated on the test set.\n",
        "While some improvement in performance was observed, particularly for minority class prediction, there were variations in the effectiveness of oversampling techniques across different classifiers.\n",
        "\n",
        "**Key Observations:**\n",
        "\n",
        "Oversampling techniques helped improve the models' ability to predict minority class instances, as reflected in metrics like precision, recall, and F1-score. The choice of oversampling method can impact model performance, with some methods yielding better results than others depending on the dataset and classifier used.\n",
        "Hyperparameter tuning, especially optimizing class weights, played a crucial role in enhancing model performance, particularly in imbalanced datasets.\n",
        "\n",
        "**Conclusions:**\n",
        "\n",
        "Addressing class imbalance is essential for building reliable machine learning models, especially when dealing with skewed datasets.\n",
        "Oversampling techniques like SMOTE and ADASYN can effectively mitigate class imbalance, leading to better model generalization and performance.\n",
        "Hyperparameter tuning, particularly optimizing class weights, can further improve model robustness and predictive accuracy, especially in imbalanced datasets.\n",
        "Careful evaluation and selection of oversampling methods, hyperparameters, and evaluation metrics are crucial for developing effective models for imbalanced datasets.\n",
        "\n",
        "In summary, this assignment highlighted the importance of addressing class imbalance in machine learning tasks and demonstrated various techniques to mitigate it. By optimizing hyperparameters and leveraging oversampling methods, it's possible to develop more accurate and reliable models, particularly for datasets with imbalanced class distributions."
      ],
      "metadata": {
        "id": "w7mfWGVpwyqz"
      }
    }
  ]
}